{
  "nbformat": 4,
  "nbformat_minor": 0,
  "metadata": {
    "kernelspec": {
      "name": "python3",
      "display_name": "Python 3"
    },
    "language_info": {
      "codemirror_mode": {
        "name": "ipython",
        "version": 3
      },
      "file_extension": ".py",
      "mimetype": "text/x-python",
      "name": "python",
      "nbconvert_exporter": "python",
      "pygments_lexer": "ipython3",
      "version": "3.7.3"
    },
    "colab": {
      "name": "005_hw_mnist_fashion.ipynb",
      "provenance": [],
      "collapsed_sections": []
    },
    "accelerator": "GPU"
  },
  "cells": [
    {
      "cell_type": "code",
      "metadata": {
        "ExecuteTime": {
          "end_time": "2020-03-21T13:31:26.739189Z",
          "start_time": "2020-03-21T13:31:16.311066Z"
        },
        "id": "myRLFopGTGo2",
        "colab_type": "code",
        "colab": {}
      },
      "source": [
        "%matplotlib inline\n",
        "%tensorflow_version 2.x\n",
        "\n",
        "import numpy as np\n",
        "import matplotlib.pyplot as plt\n",
        "# !pip install tensorflow-gpu==2.0.0-beta1\n",
        "# !pip install --upgrade keras\n",
        "import tensorflow as tf\n"
      ],
      "execution_count": 0,
      "outputs": []
    },
    {
      "cell_type": "code",
      "metadata": {
        "ExecuteTime": {
          "end_time": "2020-03-21T13:31:26.833938Z",
          "start_time": "2020-03-21T13:31:26.742181Z"
        },
        "id": "iIv8z1zPTGo9",
        "colab_type": "code",
        "colab": {}
      },
      "source": [
        "from tensorflow.keras.models import Sequential\n",
        "from tensorflow.keras.layers import Flatten\n",
        "from tensorflow.keras.layers import Dense\n",
        "from tensorflow.keras.layers import Input\n",
        "from tensorflow.keras.layers import Conv2D\n",
        "from tensorflow.keras.layers import MaxPooling2D\n",
        "from tensorflow.keras.layers import AveragePooling2D\n",
        "from tensorflow.keras.layers import GlobalMaxPooling2D\n",
        "from tensorflow.keras.layers import GlobalAveragePooling2D\n",
        "from tensorflow.keras import backend as K\n",
        "from tensorflow.keras import layers\n",
        "from tensorflow.keras.layers import BatchNormalization\n",
        "from tensorflow.keras.layers import Activation\n",
        "from tensorflow.keras.layers import Dropout\n",
        "from tensorflow.keras.optimizers import SGD, Adam, RMSprop\n",
        "from tensorflow.keras.callbacks import EarlyStopping\n",
        "from tensorflow.keras.losses import binary_crossentropy\n",
        "# from keras_radam import RAdam    # try"
      ],
      "execution_count": 0,
      "outputs": []
    },
    {
      "cell_type": "markdown",
      "metadata": {
        "id": "M7mxgDg6TGpE",
        "colab_type": "text"
      },
      "source": [
        "# 1. 讀入 Fashion MNSIT 數據集"
      ]
    },
    {
      "cell_type": "code",
      "metadata": {
        "ExecuteTime": {
          "end_time": "2020-03-21T13:31:26.854880Z",
          "start_time": "2020-03-21T13:31:26.838923Z"
        },
        "id": "zhYXYn9hTGpF",
        "colab_type": "code",
        "colab": {}
      },
      "source": [
        "from tensorflow.keras.datasets import fashion_mnist"
      ],
      "execution_count": 0,
      "outputs": []
    },
    {
      "cell_type": "code",
      "metadata": {
        "ExecuteTime": {
          "end_time": "2020-03-21T13:31:27.586922Z",
          "start_time": "2020-03-21T13:31:26.858871Z"
        },
        "id": "7TO-kMIETGpJ",
        "colab_type": "code",
        "outputId": "d749891d-6efe-4639-885a-e03b8b9b1b27",
        "colab": {
          "base_uri": "https://localhost:8080/",
          "height": 154
        }
      },
      "source": [
        "(x_train, y_train), (x_test, y_test) = fashion_mnist.load_data()"
      ],
      "execution_count": 0,
      "outputs": [
        {
          "output_type": "stream",
          "text": [
            "Downloading data from https://storage.googleapis.com/tensorflow/tf-keras-datasets/train-labels-idx1-ubyte.gz\n",
            "32768/29515 [=================================] - 0s 0us/step\n",
            "Downloading data from https://storage.googleapis.com/tensorflow/tf-keras-datasets/train-images-idx3-ubyte.gz\n",
            "26427392/26421880 [==============================] - 0s 0us/step\n",
            "Downloading data from https://storage.googleapis.com/tensorflow/tf-keras-datasets/t10k-labels-idx1-ubyte.gz\n",
            "8192/5148 [===============================================] - 0s 0us/step\n",
            "Downloading data from https://storage.googleapis.com/tensorflow/tf-keras-datasets/t10k-images-idx3-ubyte.gz\n",
            "4423680/4422102 [==============================] - 0s 0us/step\n"
          ],
          "name": "stdout"
        }
      ]
    },
    {
      "cell_type": "code",
      "metadata": {
        "ExecuteTime": {
          "end_time": "2020-03-21T12:43:04.120678Z",
          "start_time": "2020-03-21T12:43:04.116686Z"
        },
        "id": "GjUpGt0OTGpP",
        "colab_type": "code",
        "outputId": "62a03bb0-327e-46cc-bb46-925cffcbf848",
        "colab": {
          "base_uri": "https://localhost:8080/",
          "height": 51
        }
      },
      "source": [
        "# 看一下shape\n",
        "print(x_train.shape)\n",
        "print(x_test.shape)"
      ],
      "execution_count": 0,
      "outputs": [
        {
          "output_type": "stream",
          "text": [
            "(60000, 28, 28)\n",
            "(10000, 28, 28)\n"
          ],
          "name": "stdout"
        }
      ]
    },
    {
      "cell_type": "code",
      "metadata": {
        "ExecuteTime": {
          "end_time": "2020-03-21T12:52:06.063481Z",
          "start_time": "2020-03-21T12:52:06.051513Z"
        },
        "id": "6bCedLR7TGpU",
        "colab_type": "code",
        "outputId": "82224a98-6717-4b63-b672-97e52ac317f2",
        "colab": {
          "base_uri": "https://localhost:8080/",
          "height": 34
        }
      },
      "source": [
        "y_train[0]"
      ],
      "execution_count": 0,
      "outputs": [
        {
          "output_type": "execute_result",
          "data": {
            "text/plain": [
              "9"
            ]
          },
          "metadata": {
            "tags": []
          },
          "execution_count": 6
        }
      ]
    },
    {
      "cell_type": "markdown",
      "metadata": {
        "id": "9xdDOU6ETGpY",
        "colab_type": "text"
      },
      "source": [
        "# 2. 欣賞數據集內容"
      ]
    },
    {
      "cell_type": "code",
      "metadata": {
        "ExecuteTime": {
          "end_time": "2020-03-21T13:31:27.597894Z",
          "start_time": "2020-03-21T13:31:27.592909Z"
        },
        "id": "2fc2xbkCTGpZ",
        "colab_type": "code",
        "colab": {}
      },
      "source": [
        "class_names = ['T-shirt/top', 'Trouser', 'Pullover', 'Dress', 'Coat',\n",
        "               'Sandal', 'Shirt', 'Sneaker', 'Bag', 'Ankle boot']"
      ],
      "execution_count": 0,
      "outputs": []
    },
    {
      "cell_type": "code",
      "metadata": {
        "ExecuteTime": {
          "end_time": "2020-03-21T13:31:27.888118Z",
          "start_time": "2020-03-21T13:31:27.600886Z"
        },
        "id": "hdHGTj51TGpc",
        "colab_type": "code",
        "outputId": "589d32a4-c54e-4a60-8261-cc7054ec5a33",
        "colab": {
          "base_uri": "https://localhost:8080/",
          "height": 282
        }
      },
      "source": [
        "n = 1234\n",
        "print('這是', class_names[y_train[n]])\n",
        "plt.imshow(x_train[n], cmap='Greys');"
      ],
      "execution_count": 0,
      "outputs": [
        {
          "output_type": "stream",
          "text": [
            "這是 Bag\n"
          ],
          "name": "stdout"
        },
        {
          "output_type": "display_data",
          "data": {
            "image/png": "[encoded data removed]",
            "text/plain": [
              "<Figure size 432x288 with 1 Axes>"
            ]
          },
          "metadata": {
            "tags": [],
            "needs_background": "light"
          }
        }
      ]
    },
    {
      "cell_type": "code",
      "metadata": {
        "ExecuteTime": {
          "end_time": "2020-03-21T13:31:28.155403Z",
          "start_time": "2020-03-21T13:31:27.891111Z"
        },
        "id": "DbpKWizqTGpg",
        "colab_type": "code",
        "outputId": "f0babae2-056d-44b3-dd61-55e57d6964d0",
        "colab": {
          "base_uri": "https://localhost:8080/",
          "height": 106
        }
      },
      "source": [
        "pick = np.random.choice(60000, 5, replace=False)    # 抽出不放回\n",
        "\n",
        "for i in range(5):\n",
        "    n = pick[i]\n",
        "    ax = plt.subplot(151+i)\n",
        "    ax.set_xticks([])\n",
        "    ax.set_yticks([])\n",
        "    ax.set_title(class_names[y_train[n]], fontsize=10)\n",
        "    plt.imshow(x_train[n], cmap='Greys')  "
      ],
      "execution_count": 0,
      "outputs": [
        {
          "output_type": "display_data",
          "data": {
            "image/png": "[encoded data removed]",
            "text/plain": [
              "<Figure size 432x288 with 5 Axes>"
            ]
          },
          "metadata": {
            "tags": []
          }
        }
      ]
    },
    {
      "cell_type": "code",
      "metadata": {
        "ExecuteTime": {
          "end_time": "2020-03-21T13:31:28.167372Z",
          "start_time": "2020-03-21T13:31:28.159393Z"
        },
        "id": "y4LwsnmGTGpm",
        "colab_type": "code",
        "outputId": "d1e9d502-a6e3-4bbe-9ea8-a4b5db5f26c3",
        "colab": {
          "base_uri": "https://localhost:8080/",
          "height": 34
        }
      },
      "source": [
        "pick"
      ],
      "execution_count": 0,
      "outputs": [
        {
          "output_type": "execute_result",
          "data": {
            "text/plain": [
              "array([   67, 34128, 51419, 59536, 49682])"
            ]
          },
          "metadata": {
            "tags": []
          },
          "execution_count": 10
        }
      ]
    },
    {
      "cell_type": "markdown",
      "metadata": {
        "id": "7hkdhJK6TGpp",
        "colab_type": "text"
      },
      "source": [
        "## 前處理"
      ]
    },
    {
      "cell_type": "code",
      "metadata": {
        "ExecuteTime": {
          "end_time": "2020-03-21T13:31:28.636119Z",
          "start_time": "2020-03-21T13:31:28.170364Z"
        },
        "id": "On3YzOfhTGpq",
        "colab_type": "code",
        "colab": {}
      },
      "source": [
        "# parameters\n",
        "class_nums = len(class_names)\n",
        "\n",
        "\n",
        "# flatten and normalize\n",
        "x_train = x_train.reshape(60000, 784) / 255.\n",
        "x_test = x_test.reshape(10000, 784) / 255.\n",
        "\n",
        "x_train_original = x_train.reshape(60000, 28, 28, 1)\n",
        "x_test_original = x_test.reshape(10000, 28, 28, 1)\n",
        "\n",
        "\n",
        "# one-hot y-data\n",
        "y_train = tf.keras.utils.to_categorical(y_train, class_nums)\n",
        "y_test = tf.keras.utils.to_categorical(y_test, class_nums)"
      ],
      "execution_count": 0,
      "outputs": []
    },
    {
      "cell_type": "markdown",
      "metadata": {
        "id": "GhYm-_LpTGpt",
        "colab_type": "text"
      },
      "source": [
        "## Model\n",
        "- CNN model\n",
        "    - baseline\n",
        "        - 卷積層3層\n",
        "    - activation一般都是用Relu, 用性質相近的leaky relu如何?\n",
        "        - relu\n",
        "        - leaky relu\n",
        "    - BatchNormalization要不要加，以及為什麼?加在哪?\n",
        "        - [BN在前還是activation在前](https://arxiv.org/pdf/1603.05027.pdf)\n",
        "            - 早期是BN在前，後面的論文研究BN在activation效果可能好一些。\n",
        "    - pooling要不要加，以及為什麼?\n",
        "        - MaxPooling\n",
        "            - MaxPooling 通常會在幾層 Convolution 後，⽤來降低 Feature Maps 的尺度以及強化特徵。\n",
        "        - AveragePooling\n",
        "    - optimizer要使用哪一個，以及為什麼?\n",
        "        - SGD\n",
        "        - Adam\n",
        "        - RMSP\n",
        "    - initializer要使用哪一種方式，以及為什麼?\n",
        "        - default\n",
        "        - others\n",
        "    - Flatten與GlobalAveragePooling差別在哪裡?要用哪一個?\n",
        "        - Flatten\n",
        "        - GlobalAveragePooling\n",
        "            - Global Average Pooling (GAP) 就是將每張Feature Map上的資訊以平\n",
        "均的⽅式壓為⼀個值\n",
        "                - 好處是什麼???\n",
        "    - loss function要用哪一個，以及為什麼?\n",
        "        - mse\n",
        "        - binary_crose_entropy\n",
        "    - early-stop\n",
        "    - maybe data augmentation or transfering learnging\n"
      ]
    },
    {
      "cell_type": "markdown",
      "metadata": {
        "id": "Ivy0nGTAiLSQ",
        "colab_type": "text"
      },
      "source": [
        "## Baseline CNN Model\n",
        "- #### 表現就不會太差了, 可以有一個直覺說, 淺層模型就足夠學到大部分的線條。"
      ]
    },
    {
      "cell_type": "code",
      "metadata": {
        "id": "5xJWT2BGA5IR",
        "colab_type": "code",
        "outputId": "0e20d10a-b6ba-4385-910c-abda3c1a41b6",
        "colab": {
          "base_uri": "https://localhost:8080/",
          "height": 1000
        }
      },
      "source": [
        "# baseline\n",
        "# 5s 10ms/step - loss: 0.0056 - accuracy: 0.9649 - val_loss: 0.0138 - val_accuracy: 0.9095\n",
        "# 明顯可以觀察到overfitting\n",
        "\n",
        "batch_size = 128\n",
        "epochs = 20\n",
        "# lr = 0.01\n",
        "\n",
        "model = Sequential()\n",
        "model.add(Conv2D(16, (3, 3), padding='same', \n",
        "                 input_shape=x_train_original.shape[1:],\n",
        "                 activation='relu'))\n",
        "model.add(MaxPooling2D())\n",
        "model.add(Conv2D(32, (3, 3), padding='same',\n",
        "                 activation='relu'))\n",
        "model.add(MaxPooling2D())\n",
        "model.add(Conv2D(64, (3, 3), padding='same',\n",
        "                 activation='relu'))\n",
        "model.add(MaxPooling2D())\n",
        "model.add(Flatten())\n",
        "model.add(Dense(128, activation='relu'))\n",
        "model.add(Dense(10, activation='softmax'))\n",
        "model.summary()\n",
        "\n",
        "model.compile(loss='mse',\n",
        "              optimizer=RMSprop(),\n",
        "              metrics=['accuracy'])\n",
        "model.fit(x_train_original, y_train,\n",
        "          batch_size=batch_size,\n",
        "          epochs=epochs,\n",
        "          validation_data=(x_test_original, y_test))"
      ],
      "execution_count": 0,
      "outputs": [
        {
          "output_type": "stream",
          "text": [
            "Model: \"sequential_1\"\n",
            "_________________________________________________________________\n",
            "Layer (type)                 Output Shape              Param #   \n",
            "=================================================================\n",
            "conv2d_3 (Conv2D)            (None, 28, 28, 16)        160       \n",
            "_________________________________________________________________\n",
            "max_pooling2d_3 (MaxPooling2 (None, 14, 14, 16)        0         \n",
            "_________________________________________________________________\n",
            "conv2d_4 (Conv2D)            (None, 14, 14, 32)        4640      \n",
            "_________________________________________________________________\n",
            "max_pooling2d_4 (MaxPooling2 (None, 7, 7, 32)          0         \n",
            "_________________________________________________________________\n",
            "conv2d_5 (Conv2D)            (None, 7, 7, 64)          18496     \n",
            "_________________________________________________________________\n",
            "max_pooling2d_5 (MaxPooling2 (None, 3, 3, 64)          0         \n",
            "_________________________________________________________________\n",
            "flatten_1 (Flatten)          (None, 576)               0         \n",
            "_________________________________________________________________\n",
            "dense_2 (Dense)              (None, 128)               73856     \n",
            "_________________________________________________________________\n",
            "dense_3 (Dense)              (None, 10)                1290      \n",
            "=================================================================\n",
            "Total params: 98,442\n",
            "Trainable params: 98,442\n",
            "Non-trainable params: 0\n",
            "_________________________________________________________________\n",
            "Epoch 1/20\n",
            "469/469 [==============================] - 5s 10ms/step - loss: 0.0309 - accuracy: 0.7772 - val_loss: 0.0209 - val_accuracy: 0.8549\n",
            "Epoch 2/20\n",
            "469/469 [==============================] - 4s 10ms/step - loss: 0.0190 - accuracy: 0.8689 - val_loss: 0.0185 - val_accuracy: 0.8703\n",
            "Epoch 3/20\n",
            "469/469 [==============================] - 4s 9ms/step - loss: 0.0163 - accuracy: 0.8880 - val_loss: 0.0165 - val_accuracy: 0.8860\n",
            "Epoch 4/20\n",
            "469/469 [==============================] - 4s 9ms/step - loss: 0.0146 - accuracy: 0.9007 - val_loss: 0.0181 - val_accuracy: 0.8725\n",
            "Epoch 5/20\n",
            "469/469 [==============================] - 4s 9ms/step - loss: 0.0133 - accuracy: 0.9100 - val_loss: 0.0147 - val_accuracy: 0.8981\n",
            "Epoch 6/20\n",
            "469/469 [==============================] - 4s 9ms/step - loss: 0.0124 - accuracy: 0.9147 - val_loss: 0.0139 - val_accuracy: 0.9048\n",
            "Epoch 7/20\n",
            "469/469 [==============================] - 4s 9ms/step - loss: 0.0115 - accuracy: 0.9222 - val_loss: 0.0134 - val_accuracy: 0.9085\n",
            "Epoch 8/20\n",
            "469/469 [==============================] - 4s 9ms/step - loss: 0.0108 - accuracy: 0.9287 - val_loss: 0.0138 - val_accuracy: 0.9045\n",
            "Epoch 9/20\n",
            "469/469 [==============================] - 4s 9ms/step - loss: 0.0102 - accuracy: 0.9322 - val_loss: 0.0135 - val_accuracy: 0.9104\n",
            "Epoch 10/20\n",
            "469/469 [==============================] - 4s 9ms/step - loss: 0.0096 - accuracy: 0.9363 - val_loss: 0.0131 - val_accuracy: 0.9087\n",
            "Epoch 11/20\n",
            "469/469 [==============================] - 4s 9ms/step - loss: 0.0091 - accuracy: 0.9404 - val_loss: 0.0138 - val_accuracy: 0.9083\n",
            "Epoch 12/20\n",
            "469/469 [==============================] - 4s 9ms/step - loss: 0.0086 - accuracy: 0.9440 - val_loss: 0.0140 - val_accuracy: 0.9051\n",
            "Epoch 13/20\n",
            "469/469 [==============================] - 4s 9ms/step - loss: 0.0082 - accuracy: 0.9468 - val_loss: 0.0132 - val_accuracy: 0.9128\n",
            "Epoch 14/20\n",
            "469/469 [==============================] - 4s 9ms/step - loss: 0.0077 - accuracy: 0.9512 - val_loss: 0.0127 - val_accuracy: 0.9151\n",
            "Epoch 15/20\n",
            "469/469 [==============================] - 4s 10ms/step - loss: 0.0074 - accuracy: 0.9528 - val_loss: 0.0133 - val_accuracy: 0.9120\n",
            "Epoch 16/20\n",
            "469/469 [==============================] - 5s 10ms/step - loss: 0.0069 - accuracy: 0.9560 - val_loss: 0.0134 - val_accuracy: 0.9132\n",
            "Epoch 17/20\n",
            "469/469 [==============================] - 5s 10ms/step - loss: 0.0066 - accuracy: 0.9578 - val_loss: 0.0144 - val_accuracy: 0.9063\n",
            "Epoch 18/20\n",
            "469/469 [==============================] - 5s 10ms/step - loss: 0.0063 - accuracy: 0.9610 - val_loss: 0.0130 - val_accuracy: 0.9163\n",
            "Epoch 19/20\n",
            "469/469 [==============================] - 5s 10ms/step - loss: 0.0060 - accuracy: 0.9620 - val_loss: 0.0141 - val_accuracy: 0.9100\n",
            "Epoch 20/20\n",
            "469/469 [==============================] - 5s 10ms/step - loss: 0.0056 - accuracy: 0.9649 - val_loss: 0.0138 - val_accuracy: 0.9095\n"
          ],
          "name": "stdout"
        },
        {
          "output_type": "execute_result",
          "data": {
            "text/plain": [
              "<tensorflow.python.keras.callbacks.History at 0x7f02c02aa358>"
            ]
          },
          "metadata": {
            "tags": []
          },
          "execution_count": 13
        }
      ]
    },
    {
      "cell_type": "markdown",
      "metadata": {
        "id": "E9hSlWUrOjc_",
        "colab_type": "text"
      },
      "source": [
        "## 檢驗activation function效果\n",
        "- 效果兩者是差不多的，可能是因為此情形沒有dead neuron。\n",
        "    - 因此，維持原選擇relu，因為計算量還比較少。\n",
        "- [參考常用激勵函數以及如何選擇](https://blog.csdn.net/tyhj_sf/article/details/79932893)"
      ]
    },
    {
      "cell_type": "code",
      "metadata": {
        "id": "NIaSxK7bOJwu",
        "colab_type": "code",
        "outputId": "1285ba75-53cc-4bc2-e8ad-9fcc4a46ac67",
        "colab": {
          "base_uri": "https://localhost:8080/",
          "height": 1000
        }
      },
      "source": [
        "batch_size = 128\n",
        "epochs = 20\n",
        "\n",
        "model = Sequential()\n",
        "model.add(Conv2D(16, (3, 3), padding='same', \n",
        "                 input_shape=x_train_original.shape[1:],\n",
        "                 activation='relu'))\n",
        "model.add(MaxPooling2D())\n",
        "model.add(Conv2D(32, (3, 3), padding='same',\n",
        "                 activation='relu'))\n",
        "model.add(MaxPooling2D())\n",
        "model.add(Conv2D(64, (3, 3), padding='same',\n",
        "                 activation='relu'))\n",
        "model.add(MaxPooling2D())\n",
        "model.add(Flatten())\n",
        "model.add(Dense(128, activation='relu'))\n",
        "model.add(Dense(10, activation='softmax'))\n",
        "model.summary()\n",
        "\n",
        "model.compile(loss='mse',\n",
        "              optimizer=RMSprop(),\n",
        "              metrics=['accuracy'])\n",
        "model.fit(x_train_original, y_train,\n",
        "          batch_size=batch_size,\n",
        "          epochs=epochs,\n",
        "          validation_data=(x_test_original, y_test))"
      ],
      "execution_count": 0,
      "outputs": [
        {
          "output_type": "stream",
          "text": [
            "Model: \"sequential_2\"\n",
            "_________________________________________________________________\n",
            "Layer (type)                 Output Shape              Param #   \n",
            "=================================================================\n",
            "conv2d_6 (Conv2D)            (None, 28, 28, 16)        160       \n",
            "_________________________________________________________________\n",
            "max_pooling2d_6 (MaxPooling2 (None, 14, 14, 16)        0         \n",
            "_________________________________________________________________\n",
            "conv2d_7 (Conv2D)            (None, 14, 14, 32)        4640      \n",
            "_________________________________________________________________\n",
            "max_pooling2d_7 (MaxPooling2 (None, 7, 7, 32)          0         \n",
            "_________________________________________________________________\n",
            "conv2d_8 (Conv2D)            (None, 7, 7, 64)          18496     \n",
            "_________________________________________________________________\n",
            "max_pooling2d_8 (MaxPooling2 (None, 3, 3, 64)          0         \n",
            "_________________________________________________________________\n",
            "flatten_2 (Flatten)          (None, 576)               0         \n",
            "_________________________________________________________________\n",
            "dense_4 (Dense)              (None, 128)               73856     \n",
            "_________________________________________________________________\n",
            "dense_5 (Dense)              (None, 10)                1290      \n",
            "=================================================================\n",
            "Total params: 98,442\n",
            "Trainable params: 98,442\n",
            "Non-trainable params: 0\n",
            "_________________________________________________________________\n",
            "Epoch 1/20\n",
            "469/469 [==============================] - 6s 12ms/step - loss: 0.0283 - accuracy: 0.7970 - val_loss: 0.0202 - val_accuracy: 0.8623\n",
            "Epoch 2/20\n",
            "469/469 [==============================] - 5s 11ms/step - loss: 0.0180 - accuracy: 0.8766 - val_loss: 0.0191 - val_accuracy: 0.8630\n",
            "Epoch 3/20\n",
            "469/469 [==============================] - 5s 11ms/step - loss: 0.0155 - accuracy: 0.8943 - val_loss: 0.0162 - val_accuracy: 0.8891\n",
            "Epoch 4/20\n",
            "469/469 [==============================] - 5s 11ms/step - loss: 0.0141 - accuracy: 0.9048 - val_loss: 0.0153 - val_accuracy: 0.8964\n",
            "Epoch 5/20\n",
            "469/469 [==============================] - 5s 11ms/step - loss: 0.0131 - accuracy: 0.9118 - val_loss: 0.0153 - val_accuracy: 0.8948\n",
            "Epoch 6/20\n",
            "469/469 [==============================] - 5s 11ms/step - loss: 0.0122 - accuracy: 0.9181 - val_loss: 0.0145 - val_accuracy: 0.9001\n",
            "Epoch 7/20\n",
            "469/469 [==============================] - 5s 11ms/step - loss: 0.0114 - accuracy: 0.9231 - val_loss: 0.0140 - val_accuracy: 0.9053\n",
            "Epoch 8/20\n",
            "469/469 [==============================] - 5s 11ms/step - loss: 0.0108 - accuracy: 0.9280 - val_loss: 0.0137 - val_accuracy: 0.9081\n",
            "Epoch 9/20\n",
            "469/469 [==============================] - 5s 11ms/step - loss: 0.0101 - accuracy: 0.9330 - val_loss: 0.0144 - val_accuracy: 0.9016\n",
            "Epoch 10/20\n",
            "469/469 [==============================] - 5s 11ms/step - loss: 0.0096 - accuracy: 0.9368 - val_loss: 0.0135 - val_accuracy: 0.9071\n",
            "Epoch 11/20\n",
            "469/469 [==============================] - 5s 11ms/step - loss: 0.0092 - accuracy: 0.9394 - val_loss: 0.0133 - val_accuracy: 0.9087\n",
            "Epoch 12/20\n",
            "469/469 [==============================] - 5s 11ms/step - loss: 0.0087 - accuracy: 0.9437 - val_loss: 0.0131 - val_accuracy: 0.9109\n",
            "Epoch 13/20\n",
            "469/469 [==============================] - 5s 11ms/step - loss: 0.0083 - accuracy: 0.9465 - val_loss: 0.0133 - val_accuracy: 0.9109\n",
            "Epoch 14/20\n",
            "469/469 [==============================] - 5s 11ms/step - loss: 0.0079 - accuracy: 0.9488 - val_loss: 0.0143 - val_accuracy: 0.9049\n",
            "Epoch 15/20\n",
            "469/469 [==============================] - 5s 11ms/step - loss: 0.0076 - accuracy: 0.9519 - val_loss: 0.0133 - val_accuracy: 0.9120\n",
            "Epoch 16/20\n",
            "469/469 [==============================] - 5s 11ms/step - loss: 0.0073 - accuracy: 0.9542 - val_loss: 0.0135 - val_accuracy: 0.9120\n",
            "Epoch 17/20\n",
            "469/469 [==============================] - 5s 11ms/step - loss: 0.0070 - accuracy: 0.9554 - val_loss: 0.0144 - val_accuracy: 0.9059\n",
            "Epoch 18/20\n",
            "469/469 [==============================] - 5s 10ms/step - loss: 0.0066 - accuracy: 0.9577 - val_loss: 0.0141 - val_accuracy: 0.9084\n",
            "Epoch 19/20\n",
            "469/469 [==============================] - 5s 10ms/step - loss: 0.0064 - accuracy: 0.9601 - val_loss: 0.0146 - val_accuracy: 0.9052\n",
            "Epoch 20/20\n",
            "469/469 [==============================] - 5s 10ms/step - loss: 0.0062 - accuracy: 0.9614 - val_loss: 0.0151 - val_accuracy: 0.9050\n"
          ],
          "name": "stdout"
        },
        {
          "output_type": "execute_result",
          "data": {
            "text/plain": [
              "<tensorflow.python.keras.callbacks.History at 0x7f02a0d28780>"
            ]
          },
          "metadata": {
            "tags": []
          },
          "execution_count": 14
        }
      ]
    },
    {
      "cell_type": "markdown",
      "metadata": {
        "id": "CwoJN3PvtdwN",
        "colab_type": "text"
      },
      "source": [
        "## 測試initializer變換\n",
        "    - uniform\n",
        "    - defalut\n",
        "    - 結論: 兩者沒有太顯著的差異，當然這是很初步的測試，並沒有去調整其他lr等等來比較。\n",
        "        - 暫時維持原default的initializer\n",
        "        - 猜想: 在訓練參數大時, 理論上會有所差距。"
      ]
    },
    {
      "cell_type": "code",
      "metadata": {
        "ExecuteTime": {
          "start_time": "2020-03-21T13:31:46.045Z"
        },
        "id": "2jwsJGhETGqB",
        "colab_type": "code",
        "outputId": "88bdc9fc-8726-4840-e5cc-10516d2656ff",
        "colab": {
          "base_uri": "https://localhost:8080/",
          "height": 1000
        }
      },
      "source": [
        "batch_size = 128\n",
        "epochs = 20\n",
        "\n",
        "model = Sequential()\n",
        "model.add(Conv2D(16, (3, 3), padding='same', \n",
        "                 input_shape=x_train_original.shape[1:],\n",
        "                 activation='relu',\n",
        "                 kernel_initializer='uniform'))\n",
        "model.add(MaxPooling2D())\n",
        "model.add(Conv2D(32, (3, 3), padding='same',\n",
        "                 activation='relu',\n",
        "                 kernel_initializer='uniform'))\n",
        "model.add(MaxPooling2D())\n",
        "model.add(Conv2D(64, (3, 3), padding='same',\n",
        "                 activation='relu',\n",
        "                 kernel_initializer='uniform'))\n",
        "model.add(MaxPooling2D())\n",
        "model.add(Flatten())\n",
        "model.add(Dense(128, activation='relu',\n",
        "                kernel_initializer='uniform'))\n",
        "model.add(Dense(10, activation='softmax',\n",
        "                kernel_initializer='uniform'))\n",
        "model.summary()\n",
        "\n",
        "model.compile(loss='mse',\n",
        "              optimizer=RMSprop(),\n",
        "              metrics=['accuracy'])\n",
        "model.fit(x_train_original, y_train,\n",
        "          batch_size=batch_size,\n",
        "          epochs=epochs,\n",
        "          validation_data=(x_test_original, y_test))"
      ],
      "execution_count": 0,
      "outputs": [
        {
          "output_type": "stream",
          "text": [
            "Model: \"sequential_3\"\n",
            "_________________________________________________________________\n",
            "Layer (type)                 Output Shape              Param #   \n",
            "=================================================================\n",
            "conv2d_9 (Conv2D)            (None, 28, 28, 16)        160       \n",
            "_________________________________________________________________\n",
            "max_pooling2d_9 (MaxPooling2 (None, 14, 14, 16)        0         \n",
            "_________________________________________________________________\n",
            "conv2d_10 (Conv2D)           (None, 14, 14, 32)        4640      \n",
            "_________________________________________________________________\n",
            "max_pooling2d_10 (MaxPooling (None, 7, 7, 32)          0         \n",
            "_________________________________________________________________\n",
            "conv2d_11 (Conv2D)           (None, 7, 7, 64)          18496     \n",
            "_________________________________________________________________\n",
            "max_pooling2d_11 (MaxPooling (None, 3, 3, 64)          0         \n",
            "_________________________________________________________________\n",
            "flatten_3 (Flatten)          (None, 576)               0         \n",
            "_________________________________________________________________\n",
            "dense_6 (Dense)              (None, 128)               73856     \n",
            "_________________________________________________________________\n",
            "dense_7 (Dense)              (None, 10)                1290      \n",
            "=================================================================\n",
            "Total params: 98,442\n",
            "Trainable params: 98,442\n",
            "Non-trainable params: 0\n",
            "_________________________________________________________________\n",
            "Epoch 1/20\n",
            "469/469 [==============================] - 5s 10ms/step - loss: 0.0393 - accuracy: 0.7050 - val_loss: 0.0288 - val_accuracy: 0.7902\n",
            "Epoch 2/20\n",
            "469/469 [==============================] - 4s 9ms/step - loss: 0.0240 - accuracy: 0.8313 - val_loss: 0.0231 - val_accuracy: 0.8344\n",
            "Epoch 3/20\n",
            "469/469 [==============================] - 4s 9ms/step - loss: 0.0197 - accuracy: 0.8625 - val_loss: 0.0198 - val_accuracy: 0.8632\n",
            "Epoch 4/20\n",
            "469/469 [==============================] - 4s 9ms/step - loss: 0.0178 - accuracy: 0.8776 - val_loss: 0.0219 - val_accuracy: 0.8447\n",
            "Epoch 5/20\n",
            "469/469 [==============================] - 4s 9ms/step - loss: 0.0163 - accuracy: 0.8888 - val_loss: 0.0191 - val_accuracy: 0.8679\n",
            "Epoch 6/20\n",
            "469/469 [==============================] - 4s 9ms/step - loss: 0.0153 - accuracy: 0.8951 - val_loss: 0.0162 - val_accuracy: 0.8889\n",
            "Epoch 7/20\n",
            "469/469 [==============================] - 4s 9ms/step - loss: 0.0144 - accuracy: 0.9019 - val_loss: 0.0163 - val_accuracy: 0.8871\n",
            "Epoch 8/20\n",
            "469/469 [==============================] - 4s 9ms/step - loss: 0.0137 - accuracy: 0.9072 - val_loss: 0.0167 - val_accuracy: 0.8874\n",
            "Epoch 9/20\n",
            "469/469 [==============================] - 4s 9ms/step - loss: 0.0130 - accuracy: 0.9131 - val_loss: 0.0150 - val_accuracy: 0.8970\n",
            "Epoch 10/20\n",
            "469/469 [==============================] - 4s 9ms/step - loss: 0.0124 - accuracy: 0.9159 - val_loss: 0.0166 - val_accuracy: 0.8869\n",
            "Epoch 11/20\n",
            "469/469 [==============================] - 4s 9ms/step - loss: 0.0120 - accuracy: 0.9196 - val_loss: 0.0147 - val_accuracy: 0.8974\n",
            "Epoch 12/20\n",
            "469/469 [==============================] - 4s 10ms/step - loss: 0.0114 - accuracy: 0.9237 - val_loss: 0.0143 - val_accuracy: 0.9042\n",
            "Epoch 13/20\n",
            "469/469 [==============================] - 5s 10ms/step - loss: 0.0109 - accuracy: 0.9275 - val_loss: 0.0146 - val_accuracy: 0.9015\n",
            "Epoch 14/20\n",
            "469/469 [==============================] - 5s 10ms/step - loss: 0.0104 - accuracy: 0.9300 - val_loss: 0.0147 - val_accuracy: 0.9002\n",
            "Epoch 15/20\n",
            "469/469 [==============================] - 5s 10ms/step - loss: 0.0100 - accuracy: 0.9340 - val_loss: 0.0147 - val_accuracy: 0.9006\n",
            "Epoch 16/20\n",
            "469/469 [==============================] - 5s 10ms/step - loss: 0.0097 - accuracy: 0.9359 - val_loss: 0.0136 - val_accuracy: 0.9109\n",
            "Epoch 17/20\n",
            "469/469 [==============================] - 5s 10ms/step - loss: 0.0093 - accuracy: 0.9392 - val_loss: 0.0136 - val_accuracy: 0.9088\n",
            "Epoch 18/20\n",
            "469/469 [==============================] - 5s 10ms/step - loss: 0.0090 - accuracy: 0.9410 - val_loss: 0.0141 - val_accuracy: 0.9041\n",
            "Epoch 19/20\n",
            "469/469 [==============================] - 5s 10ms/step - loss: 0.0086 - accuracy: 0.9445 - val_loss: 0.0138 - val_accuracy: 0.9094\n",
            "Epoch 20/20\n",
            "469/469 [==============================] - 5s 10ms/step - loss: 0.0082 - accuracy: 0.9470 - val_loss: 0.0149 - val_accuracy: 0.9046\n"
          ],
          "name": "stdout"
        },
        {
          "output_type": "execute_result",
          "data": {
            "text/plain": [
              "<tensorflow.python.keras.callbacks.History at 0x7f02c9c4ccc0>"
            ]
          },
          "metadata": {
            "tags": []
          },
          "execution_count": 15
        }
      ]
    },
    {
      "cell_type": "markdown",
      "metadata": {
        "id": "XQnvm5LfkYFX",
        "colab_type": "text"
      },
      "source": [
        "## 測試Pooling的效果\n",
        "- 有MaxPooling\n",
        "    - 參數減少非常多。\n",
        "    - 著重最顯著的特徵, 也比較符合一般的視覺直覺。\n",
        "- 沒有MaxPooling\n",
        "    - 參數多，訓練速度慢。\n",
        "    - 更為嚴重的overfitting, 但acc也是有所提升。\n",
        "- 有AveragePooling\n",
        "    - 參數同MaxPooling\n",
        "    - 相對於MaxPooling, 會柔和特徵。\n",
        "\n",
        "- 結論:\n",
        "    - 結果還是MaxPooling更好一些。\n",
        "        - 參數少, acc也是表現得比averagePooling更好一些。\n",
        "        - 但，這只是在\"全部\"都放相同的狀況下, 如果根據更深的CNN model\n",
        "            去做適當的放置, 我認為可能會表現得比單純全部都一樣好。\n",
        "            - 這些測試還沒有做, work有點太多QQ"
      ]
    },
    {
      "cell_type": "code",
      "metadata": {
        "id": "Ck6SfGf3ktco",
        "colab_type": "code",
        "outputId": "bfefeb13-5299-4700-bd3a-8bb39d9fd9e2",
        "colab": {
          "base_uri": "https://localhost:8080/",
          "height": 1000
        }
      },
      "source": [
        "batch_size = 128\n",
        "epochs = 20\n",
        "\n",
        "model = Sequential()\n",
        "model.add(Conv2D(16, (3, 3), padding='same', \n",
        "                 input_shape=x_train_original.shape[1:],\n",
        "                 activation='relu'))\n",
        "# model.add(MaxPooling2D())\n",
        "model.add(Conv2D(32, (3, 3), padding='same',\n",
        "                 activation='relu'))\n",
        "# model.add(MaxPooling2D())\n",
        "model.add(Conv2D(64, (3, 3), padding='same',\n",
        "                 activation='relu'))\n",
        "# model.add(MaxPooling2D())\n",
        "model.add(Flatten())\n",
        "model.add(Dense(128, activation='relu'))\n",
        "model.add(Dense(10, activation='softmax'))\n",
        "model.summary()\n",
        "\n",
        "model.compile(loss='mse',\n",
        "              optimizer=RMSprop(),\n",
        "              metrics=['accuracy'])\n",
        "model.fit(x_train_original, y_train,\n",
        "          batch_size=batch_size,\n",
        "          epochs=epochs,\n",
        "          validation_data=(x_test_original, y_test))"
      ],
      "execution_count": 0,
      "outputs": [
        {
          "output_type": "stream",
          "text": [
            "Model: \"sequential_4\"\n",
            "_________________________________________________________________\n",
            "Layer (type)                 Output Shape              Param #   \n",
            "=================================================================\n",
            "conv2d_12 (Conv2D)           (None, 28, 28, 16)        160       \n",
            "_________________________________________________________________\n",
            "conv2d_13 (Conv2D)           (None, 28, 28, 32)        4640      \n",
            "_________________________________________________________________\n",
            "conv2d_14 (Conv2D)           (None, 28, 28, 64)        18496     \n",
            "_________________________________________________________________\n",
            "flatten_4 (Flatten)          (None, 50176)             0         \n",
            "_________________________________________________________________\n",
            "dense_8 (Dense)              (None, 128)               6422656   \n",
            "_________________________________________________________________\n",
            "dense_9 (Dense)              (None, 10)                1290      \n",
            "=================================================================\n",
            "Total params: 6,447,242\n",
            "Trainable params: 6,447,242\n",
            "Non-trainable params: 0\n",
            "_________________________________________________________________\n",
            "Epoch 1/20\n",
            "469/469 [==============================] - 13s 28ms/step - loss: 0.0209 - accuracy: 0.8539 - val_loss: 0.0150 - val_accuracy: 0.8960\n",
            "Epoch 2/20\n",
            "469/469 [==============================] - 13s 28ms/step - loss: 0.0121 - accuracy: 0.9177 - val_loss: 0.0133 - val_accuracy: 0.9089\n",
            "Epoch 3/20\n",
            "469/469 [==============================] - 13s 28ms/step - loss: 0.0089 - accuracy: 0.9408 - val_loss: 0.0122 - val_accuracy: 0.9174\n",
            "Epoch 4/20\n",
            "469/469 [==============================] - 13s 28ms/step - loss: 0.0065 - accuracy: 0.9574 - val_loss: 0.0130 - val_accuracy: 0.9150\n",
            "Epoch 5/20\n",
            "469/469 [==============================] - 13s 28ms/step - loss: 0.0047 - accuracy: 0.9701 - val_loss: 0.0126 - val_accuracy: 0.9186\n",
            "Epoch 6/20\n",
            "469/469 [==============================] - 13s 28ms/step - loss: 0.0034 - accuracy: 0.9787 - val_loss: 0.0124 - val_accuracy: 0.9221\n",
            "Epoch 7/20\n",
            "469/469 [==============================] - 13s 28ms/step - loss: 0.0026 - accuracy: 0.9845 - val_loss: 0.0122 - val_accuracy: 0.9217\n",
            "Epoch 8/20\n",
            "469/469 [==============================] - 13s 28ms/step - loss: 0.0020 - accuracy: 0.9883 - val_loss: 0.0124 - val_accuracy: 0.9244\n",
            "Epoch 9/20\n",
            "469/469 [==============================] - 12s 26ms/step - loss: 0.0017 - accuracy: 0.9905 - val_loss: 0.0134 - val_accuracy: 0.9218\n",
            "Epoch 10/20\n",
            "469/469 [==============================] - 12s 26ms/step - loss: 0.0014 - accuracy: 0.9919 - val_loss: 0.0133 - val_accuracy: 0.9214\n",
            "Epoch 11/20\n",
            "469/469 [==============================] - 12s 26ms/step - loss: 0.0013 - accuracy: 0.9928 - val_loss: 0.0139 - val_accuracy: 0.9182\n",
            "Epoch 12/20\n",
            "469/469 [==============================] - 12s 26ms/step - loss: 0.0012 - accuracy: 0.9934 - val_loss: 0.0136 - val_accuracy: 0.9217\n",
            "Epoch 13/20\n",
            "469/469 [==============================] - 12s 26ms/step - loss: 0.0011 - accuracy: 0.9940 - val_loss: 0.0138 - val_accuracy: 0.9216\n",
            "Epoch 14/20\n",
            "469/469 [==============================] - 12s 26ms/step - loss: 0.0010 - accuracy: 0.9943 - val_loss: 0.0134 - val_accuracy: 0.9244\n",
            "Epoch 15/20\n",
            "469/469 [==============================] - 12s 26ms/step - loss: 9.7977e-04 - accuracy: 0.9947 - val_loss: 0.0146 - val_accuracy: 0.9175\n",
            "Epoch 16/20\n",
            "469/469 [==============================] - 12s 26ms/step - loss: 9.4095e-04 - accuracy: 0.9947 - val_loss: 0.0139 - val_accuracy: 0.9214\n",
            "Epoch 17/20\n",
            "469/469 [==============================] - 13s 27ms/step - loss: 9.0132e-04 - accuracy: 0.9951 - val_loss: 0.0146 - val_accuracy: 0.9173\n",
            "Epoch 18/20\n",
            "469/469 [==============================] - 13s 27ms/step - loss: 8.8251e-04 - accuracy: 0.9951 - val_loss: 0.0153 - val_accuracy: 0.9166\n",
            "Epoch 19/20\n",
            "469/469 [==============================] - 13s 27ms/step - loss: 8.6803e-04 - accuracy: 0.9952 - val_loss: 0.0142 - val_accuracy: 0.9200\n",
            "Epoch 20/20\n",
            "469/469 [==============================] - 13s 27ms/step - loss: 8.4653e-04 - accuracy: 0.9953 - val_loss: 0.0141 - val_accuracy: 0.9226\n"
          ],
          "name": "stdout"
        },
        {
          "output_type": "execute_result",
          "data": {
            "text/plain": [
              "<tensorflow.python.keras.callbacks.History at 0x7f02a128aa20>"
            ]
          },
          "metadata": {
            "tags": []
          },
          "execution_count": 16
        }
      ]
    },
    {
      "cell_type": "markdown",
      "metadata": {
        "id": "zvY5y2quo0RK",
        "colab_type": "text"
      },
      "source": [
        "## Optimizer測試\n",
        "- RMSprop\n",
        "- Adam\n",
        "- SGD\n",
        "- 結論\n",
        "    - 這邊就不列出測試, 但幾乎就是Adam表現最好, 參數都是default\n",
        "    - 有參考許多文章, 幾乎Adam的穩定度都是大家所推崇。"
      ]
    },
    {
      "cell_type": "code",
      "metadata": {
        "id": "UtLEDkRXpgZu",
        "colab_type": "code",
        "colab": {}
      },
      "source": [
        "batch_size = 128\n",
        "epochs = 20\n",
        "# lr = 0.01\n",
        "\n",
        "model = Sequential()\n",
        "model.add(Conv2D(16, (3, 3), padding='same', \n",
        "                 input_shape=x_train_original.shape[1:],\n",
        "                 activation='relu'))\n",
        "model.add(MaxPooling2D())\n",
        "model.add(Conv2D(32, (3, 3), padding='same',\n",
        "                 activation='relu'))\n",
        "model.add(MaxPooling2D())\n",
        "model.add(Conv2D(64, (3, 3), padding='same',\n",
        "                 activation='relu'))\n",
        "model.add(MaxPooling2D())\n",
        "model.add(Flatten())\n",
        "model.add(Dense(128, activation='relu'))\n",
        "model.add(Dense(10, activation='softmax'))\n",
        "model.summary()\n",
        "\n",
        "model.compile(loss='mse',\n",
        "              optimizer=RMSprop(),\n",
        "              metrics=['accuracy'])\n",
        "model.fit(x_train_original, y_train,\n",
        "          batch_size=batch_size,\n",
        "          epochs=epochs,\n",
        "          validation_data=(x_test_original, y_test))"
      ],
      "execution_count": 0,
      "outputs": []
    },
    {
      "cell_type": "markdown",
      "metadata": {
        "id": "EJZxdW0fqgXV",
        "colab_type": "text"
      },
      "source": [
        "## Flatten vs GlobalAveragePooling\n",
        "- Flatten\n",
        "- GlobalAveragePooling\n",
        "    - 參數少，會有特徵壓縮效果。\n",
        "    - 效果比起Flatten, overfitting情況較小, 但acc也下降了。"
      ]
    },
    {
      "cell_type": "code",
      "metadata": {
        "id": "PCz7ciQyqpR2",
        "colab_type": "code",
        "outputId": "09b84085-9e0e-4ce5-bf33-2359857982d9",
        "colab": {
          "base_uri": "https://localhost:8080/",
          "height": 1000
        }
      },
      "source": [
        "# GlobalAveragePooling\n",
        "# 參數少很多, 但可想而知會失去一些特徵\n",
        "\n",
        "batch_size = 128\n",
        "epochs = 20\n",
        "\n",
        "model = Sequential()\n",
        "model.add(Conv2D(16, (3, 3), padding='same', \n",
        "                 input_shape=x_train_original.shape[1:],\n",
        "                 activation='relu'))\n",
        "model.add(MaxPooling2D())\n",
        "model.add(Conv2D(32, (3, 3), padding='same',\n",
        "                 activation='relu'))\n",
        "model.add(MaxPooling2D())\n",
        "model.add(Conv2D(64, (3, 3), padding='same',\n",
        "                 activation='relu'))\n",
        "model.add(MaxPooling2D())\n",
        "model.add(GlobalAveragePooling2D())\n",
        "model.add(Dense(128, activation='relu'))\n",
        "model.add(Dense(10, activation='softmax'))\n",
        "model.summary()\n",
        "\n",
        "model.compile(loss='mse',\n",
        "              optimizer=RMSprop(),\n",
        "              metrics=['accuracy'])\n",
        "model.fit(x_train_original, y_train,\n",
        "          batch_size=batch_size,\n",
        "          epochs=epochs,\n",
        "          validation_data=(x_test_original, y_test))"
      ],
      "execution_count": 0,
      "outputs": [
        {
          "output_type": "stream",
          "text": [
            "Model: \"sequential_8\"\n",
            "_________________________________________________________________\n",
            "Layer (type)                 Output Shape              Param #   \n",
            "=================================================================\n",
            "conv2d_24 (Conv2D)           (None, 28, 28, 16)        160       \n",
            "_________________________________________________________________\n",
            "max_pooling2d_12 (MaxPooling (None, 14, 14, 16)        0         \n",
            "_________________________________________________________________\n",
            "conv2d_25 (Conv2D)           (None, 14, 14, 32)        4640      \n",
            "_________________________________________________________________\n",
            "max_pooling2d_13 (MaxPooling (None, 7, 7, 32)          0         \n",
            "_________________________________________________________________\n",
            "conv2d_26 (Conv2D)           (None, 7, 7, 64)          18496     \n",
            "_________________________________________________________________\n",
            "max_pooling2d_14 (MaxPooling (None, 3, 3, 64)          0         \n",
            "_________________________________________________________________\n",
            "global_average_pooling2d (Gl (None, 64)                0         \n",
            "_________________________________________________________________\n",
            "dense_12 (Dense)             (None, 128)               8320      \n",
            "_________________________________________________________________\n",
            "dense_13 (Dense)             (None, 10)                1290      \n",
            "=================================================================\n",
            "Total params: 32,906\n",
            "Trainable params: 32,906\n",
            "Non-trainable params: 0\n",
            "_________________________________________________________________\n",
            "Epoch 1/20\n",
            "469/469 [==============================] - 5s 10ms/step - loss: 0.0479 - accuracy: 0.6305 - val_loss: 0.0363 - val_accuracy: 0.7249\n",
            "Epoch 2/20\n",
            "469/469 [==============================] - 4s 10ms/step - loss: 0.0317 - accuracy: 0.7695 - val_loss: 0.0298 - val_accuracy: 0.7747\n",
            "Epoch 3/20\n",
            "469/469 [==============================] - 4s 9ms/step - loss: 0.0262 - accuracy: 0.8148 - val_loss: 0.0294 - val_accuracy: 0.7812\n",
            "Epoch 4/20\n",
            "469/469 [==============================] - 4s 9ms/step - loss: 0.0228 - accuracy: 0.8401 - val_loss: 0.0219 - val_accuracy: 0.8476\n",
            "Epoch 5/20\n",
            "469/469 [==============================] - 4s 9ms/step - loss: 0.0208 - accuracy: 0.8557 - val_loss: 0.0210 - val_accuracy: 0.8551\n",
            "Epoch 6/20\n",
            "469/469 [==============================] - 4s 9ms/step - loss: 0.0193 - accuracy: 0.8664 - val_loss: 0.0192 - val_accuracy: 0.8658\n",
            "Epoch 7/20\n",
            "469/469 [==============================] - 5s 10ms/step - loss: 0.0183 - accuracy: 0.8746 - val_loss: 0.0187 - val_accuracy: 0.8700\n",
            "Epoch 8/20\n",
            "469/469 [==============================] - 4s 9ms/step - loss: 0.0174 - accuracy: 0.8793 - val_loss: 0.0183 - val_accuracy: 0.8737\n",
            "Epoch 9/20\n",
            "469/469 [==============================] - 4s 9ms/step - loss: 0.0166 - accuracy: 0.8852 - val_loss: 0.0216 - val_accuracy: 0.8495\n",
            "Epoch 10/20\n",
            "469/469 [==============================] - 4s 9ms/step - loss: 0.0161 - accuracy: 0.8896 - val_loss: 0.0175 - val_accuracy: 0.8822\n",
            "Epoch 11/20\n",
            "469/469 [==============================] - 4s 9ms/step - loss: 0.0155 - accuracy: 0.8935 - val_loss: 0.0197 - val_accuracy: 0.8655\n",
            "Epoch 12/20\n",
            "469/469 [==============================] - 4s 9ms/step - loss: 0.0150 - accuracy: 0.8978 - val_loss: 0.0172 - val_accuracy: 0.8830\n",
            "Epoch 13/20\n",
            "469/469 [==============================] - 4s 9ms/step - loss: 0.0145 - accuracy: 0.9011 - val_loss: 0.0169 - val_accuracy: 0.8863\n",
            "Epoch 14/20\n",
            "469/469 [==============================] - 4s 9ms/step - loss: 0.0141 - accuracy: 0.9038 - val_loss: 0.0161 - val_accuracy: 0.8919\n",
            "Epoch 15/20\n",
            "469/469 [==============================] - 4s 10ms/step - loss: 0.0138 - accuracy: 0.9050 - val_loss: 0.0153 - val_accuracy: 0.8973\n",
            "Epoch 16/20\n",
            "469/469 [==============================] - 4s 9ms/step - loss: 0.0134 - accuracy: 0.9086 - val_loss: 0.0151 - val_accuracy: 0.8982\n",
            "Epoch 17/20\n",
            "469/469 [==============================] - 4s 9ms/step - loss: 0.0132 - accuracy: 0.9104 - val_loss: 0.0151 - val_accuracy: 0.8992\n",
            "Epoch 18/20\n",
            "469/469 [==============================] - 4s 9ms/step - loss: 0.0128 - accuracy: 0.9136 - val_loss: 0.0165 - val_accuracy: 0.8895\n",
            "Epoch 19/20\n",
            "469/469 [==============================] - 4s 9ms/step - loss: 0.0125 - accuracy: 0.9150 - val_loss: 0.0152 - val_accuracy: 0.8969\n",
            "Epoch 20/20\n",
            "469/469 [==============================] - 4s 9ms/step - loss: 0.0122 - accuracy: 0.9172 - val_loss: 0.0154 - val_accuracy: 0.8936\n"
          ],
          "name": "stdout"
        },
        {
          "output_type": "execute_result",
          "data": {
            "text/plain": [
              "<tensorflow.python.keras.callbacks.History at 0x7f029d1b0a20>"
            ]
          },
          "metadata": {
            "tags": []
          },
          "execution_count": 21
        }
      ]
    },
    {
      "cell_type": "markdown",
      "metadata": {
        "id": "gmX3m6UirYVV",
        "colab_type": "text"
      },
      "source": [
        "## 深度加深 + Dropout"
      ]
    },
    {
      "cell_type": "code",
      "metadata": {
        "id": "6nDOxKoCTGqE",
        "colab_type": "code",
        "outputId": "24f37c75-3fa8-46e9-e597-b15cf69d8a0d",
        "colab": {
          "base_uri": "https://localhost:8080/",
          "height": 1000
        }
      },
      "source": [
        "# 超參數\n",
        "batch_size = 128\n",
        "epochs = 20\n",
        "\n",
        "model = Sequential()\n",
        "model.add(Conv2D(16, (3, 3), padding='same',\n",
        "                 input_shape=x_test_original.shape[1:]))   # (60000, 28, 28, 1)\n",
        "model.add(Activation('relu'))\n",
        "model.add(Conv2D(32, (3, 3)))\n",
        "model.add(Activation('relu'))\n",
        "model.add(MaxPooling2D(pool_size=(2, 2)))\n",
        "model.add(Dropout(0.25))\n",
        "\n",
        "model.add(Conv2D(64, (3, 3), padding='same'))\n",
        "model.add(Activation('relu'))\n",
        "model.add(Conv2D(128, (3, 3)))\n",
        "model.add(Activation('relu'))\n",
        "model.add(MaxPooling2D(pool_size=(2, 2)))\n",
        "model.add(Dropout(0.25))\n",
        "\n",
        "model.add(Flatten())\n",
        "model.add(Dense(128))\n",
        "model.add(Activation('relu'))\n",
        "model.add(Dropout(0.5))\n",
        "model.add(Dense(10))\n",
        "model.add(Activation('softmax'))\n",
        "model.summary()\n",
        "\n",
        "model.compile(loss='mse',\n",
        "              optimizer=RMSprop(),\n",
        "              metrics=['accuracy'])\n",
        "\n",
        "history = model.fit(x_train_original, y_train,\n",
        "                    batch_size=batch_size,\n",
        "                    epochs=epochs,\n",
        "                    verbose=1,\n",
        "                    validation_data=(x_test_original, y_test),\n",
        "                    steps_per_epoch=None)"
      ],
      "execution_count": 0,
      "outputs": [
        {
          "output_type": "stream",
          "text": [
            "Model: \"sequential_10\"\n",
            "_________________________________________________________________\n",
            "Layer (type)                 Output Shape              Param #   \n",
            "=================================================================\n",
            "conv2d_31 (Conv2D)           (None, 28, 28, 16)        160       \n",
            "_________________________________________________________________\n",
            "activation_6 (Activation)    (None, 28, 28, 16)        0         \n",
            "_________________________________________________________________\n",
            "conv2d_32 (Conv2D)           (None, 26, 26, 32)        4640      \n",
            "_________________________________________________________________\n",
            "activation_7 (Activation)    (None, 26, 26, 32)        0         \n",
            "_________________________________________________________________\n",
            "max_pooling2d_17 (MaxPooling (None, 13, 13, 32)        0         \n",
            "_________________________________________________________________\n",
            "dropout_3 (Dropout)          (None, 13, 13, 32)        0         \n",
            "_________________________________________________________________\n",
            "conv2d_33 (Conv2D)           (None, 13, 13, 64)        18496     \n",
            "_________________________________________________________________\n",
            "activation_8 (Activation)    (None, 13, 13, 64)        0         \n",
            "_________________________________________________________________\n",
            "conv2d_34 (Conv2D)           (None, 11, 11, 128)       73856     \n",
            "_________________________________________________________________\n",
            "activation_9 (Activation)    (None, 11, 11, 128)       0         \n",
            "_________________________________________________________________\n",
            "max_pooling2d_18 (MaxPooling (None, 5, 5, 128)         0         \n",
            "_________________________________________________________________\n",
            "dropout_4 (Dropout)          (None, 5, 5, 128)         0         \n",
            "_________________________________________________________________\n",
            "flatten_7 (Flatten)          (None, 3200)              0         \n",
            "_________________________________________________________________\n",
            "dense_16 (Dense)             (None, 128)               409728    \n",
            "_________________________________________________________________\n",
            "activation_10 (Activation)   (None, 128)               0         \n",
            "_________________________________________________________________\n",
            "dropout_5 (Dropout)          (None, 128)               0         \n",
            "_________________________________________________________________\n",
            "dense_17 (Dense)             (None, 10)                1290      \n",
            "_________________________________________________________________\n",
            "activation_11 (Activation)   (None, 10)                0         \n",
            "=================================================================\n",
            "Total params: 508,170\n",
            "Trainable params: 508,170\n",
            "Non-trainable params: 0\n",
            "_________________________________________________________________\n",
            "Epoch 1/20\n",
            "469/469 [==============================] - 9s 19ms/step - loss: 0.0305 - accuracy: 0.7826 - val_loss: 0.0217 - val_accuracy: 0.8465\n",
            "Epoch 2/20\n",
            "469/469 [==============================] - 9s 19ms/step - loss: 0.0195 - accuracy: 0.8653 - val_loss: 0.0168 - val_accuracy: 0.8802\n",
            "Epoch 3/20\n",
            "469/469 [==============================] - 9s 19ms/step - loss: 0.0166 - accuracy: 0.8874 - val_loss: 0.0146 - val_accuracy: 0.8972\n",
            "Epoch 4/20\n",
            "469/469 [==============================] - 9s 19ms/step - loss: 0.0149 - accuracy: 0.8995 - val_loss: 0.0133 - val_accuracy: 0.9090\n",
            "Epoch 5/20\n",
            "469/469 [==============================] - 9s 19ms/step - loss: 0.0140 - accuracy: 0.9054 - val_loss: 0.0133 - val_accuracy: 0.9078\n",
            "Epoch 6/20\n",
            "469/469 [==============================] - 9s 19ms/step - loss: 0.0131 - accuracy: 0.9115 - val_loss: 0.0136 - val_accuracy: 0.9057\n",
            "Epoch 7/20\n",
            "469/469 [==============================] - 9s 19ms/step - loss: 0.0125 - accuracy: 0.9164 - val_loss: 0.0118 - val_accuracy: 0.9188\n",
            "Epoch 8/20\n",
            "469/469 [==============================] - 9s 19ms/step - loss: 0.0120 - accuracy: 0.9187 - val_loss: 0.0118 - val_accuracy: 0.9189\n",
            "Epoch 9/20\n",
            "469/469 [==============================] - 9s 19ms/step - loss: 0.0116 - accuracy: 0.9222 - val_loss: 0.0120 - val_accuracy: 0.9172\n",
            "Epoch 10/20\n",
            "469/469 [==============================] - 9s 19ms/step - loss: 0.0113 - accuracy: 0.9247 - val_loss: 0.0113 - val_accuracy: 0.9248\n",
            "Epoch 11/20\n",
            "469/469 [==============================] - 9s 19ms/step - loss: 0.0109 - accuracy: 0.9275 - val_loss: 0.0114 - val_accuracy: 0.9232\n",
            "Epoch 12/20\n",
            "469/469 [==============================] - 9s 19ms/step - loss: 0.0105 - accuracy: 0.9300 - val_loss: 0.0118 - val_accuracy: 0.9232\n",
            "Epoch 13/20\n",
            "469/469 [==============================] - 9s 19ms/step - loss: 0.0103 - accuracy: 0.9319 - val_loss: 0.0115 - val_accuracy: 0.9224\n",
            "Epoch 14/20\n",
            "469/469 [==============================] - 9s 19ms/step - loss: 0.0102 - accuracy: 0.9321 - val_loss: 0.0115 - val_accuracy: 0.9240\n",
            "Epoch 15/20\n",
            "469/469 [==============================] - 9s 19ms/step - loss: 0.0100 - accuracy: 0.9339 - val_loss: 0.0110 - val_accuracy: 0.9252\n",
            "Epoch 16/20\n",
            "469/469 [==============================] - 9s 19ms/step - loss: 0.0097 - accuracy: 0.9357 - val_loss: 0.0112 - val_accuracy: 0.9232\n",
            "Epoch 17/20\n",
            "469/469 [==============================] - 9s 19ms/step - loss: 0.0097 - accuracy: 0.9363 - val_loss: 0.0114 - val_accuracy: 0.9252\n",
            "Epoch 18/20\n",
            "469/469 [==============================] - 9s 19ms/step - loss: 0.0096 - accuracy: 0.9370 - val_loss: 0.0112 - val_accuracy: 0.9275\n",
            "Epoch 19/20\n",
            "469/469 [==============================] - 9s 19ms/step - loss: 0.0096 - accuracy: 0.9366 - val_loss: 0.0122 - val_accuracy: 0.9196\n",
            "Epoch 20/20\n",
            "469/469 [==============================] - 9s 19ms/step - loss: 0.0093 - accuracy: 0.9391 - val_loss: 0.0111 - val_accuracy: 0.9272\n"
          ],
          "name": "stdout"
        }
      ]
    },
    {
      "cell_type": "code",
      "metadata": {
        "id": "EsQfk7gjCK0i",
        "colab_type": "code",
        "outputId": "02665df3-db1e-41e8-b91b-38ee8e64d7c5",
        "colab": {
          "base_uri": "https://localhost:8080/",
          "height": 1000
        }
      },
      "source": [
        "# 超參數\n",
        "# 沒有BN: 5s 80us/sample - loss: 0.0038 - accuracy: 0.9765 - val_loss: 0.0117 - val_accuracy: 0.9276\n",
        "# 有BN: 7s 120us/sample - loss: 0.0040 - accuracy: 0.9747 - val_loss: 0.0110 - val_accuracy: 0.9317\n",
        "# 有BN+Dense(1024): 8s 129us/sample - loss: 0.0047 - accuracy: 0.9709 - val_loss: 0.0113 - val_accuracy: 0.9329\n",
        "# BN+512+32: 7s 113us/sample - loss: 0.0044 - accuracy: 0.9722 - val_loss: 0.0110 - val_accuracy: 0.9309\n",
        "# 多了1x1 CNN: 8s 131us/sample - loss: 0.0041 - accuracy: 0.9740 - val_loss: 0.0118 - val_accuracy: 0.9277\n",
        "# 比原始還少一層 earlystop在16 : 6s 98us/sample - loss: 0.0062 - accuracy: 0.9594 - val_loss: 0.0124 - val_accuracy: 0.9210\n",
        "\n",
        "# lr=0.01, 超爛: 7s 123us/sample - loss: 0.0249 - accuracy: 0.8738 - val_loss: 0.0254 - val_accuracy: 0.8718\n",
        "# lr=0.002, 8s 133us/sample - loss: 0.0051 - accuracy: 0.9683 - val_loss: 0.0109 - val_accuracy: 0.9321\n",
        "# default還比較好= =\n",
        "\n",
        "# MaxPooling x3, 原本只有一個: 6s 106us/sample - loss: 0.0152 - accuracy: 0.8974 - val_loss: 0.0158 - val_accuracy: 0.8908\n",
        "\n",
        "# 原32-32-64\n",
        "# 32-64-128: 10s 159us/sample - loss: 0.0039 - accuracy: 0.9758 - val_loss: 0.0121 - val_accuracy: 0.9253\n",
        "# 16-32-64: 7s 120us/sample - loss: 0.0038 - accuracy: 0.9762 - val_loss: 0.0108 - val_accuracy: 0.9322\n",
        "# 64-128-256: overfitting : 15s 246us/sample - loss: 0.0025 - accuracy: 0.9850 - val_loss: 0.0108 - val_accuracy: 0.9313\n",
        "\n",
        "batch_size = 128\n",
        "epochs = 20\n",
        "\n",
        "\n",
        "model = Sequential()\n",
        "model.add(Conv2D(64, (3, 3), padding='same',               \n",
        "                 input_shape=x_test_original.shape[1:]))   # (60000, 28, 28, 1)  # 原filter=32\n",
        "model.add(Activation('relu'))\n",
        "model.add(BatchNormalization())\n",
        "model.add(MaxPooling2D(pool_size=(2, 2)))    \n",
        "model.add(Conv2D(128, (3, 3)))                  #\n",
        "model.add(Activation('relu'))\n",
        "model.add(BatchNormalization())\n",
        "model.add(MaxPooling2D(pool_size=(2, 2)))\n",
        "model.add(Dropout(0.25))\n",
        "\n",
        "\n",
        "\n",
        "model.add(Conv2D(256, (3, 3), padding='same'))     # 修改, 原64\n",
        "model.add(Activation('relu'))\n",
        "model.add(BatchNormalization())\n",
        "\n",
        "model.add(Flatten())\n",
        "model.add(Dense(512))      # 修改\n",
        "model.add(Activation('relu'))\n",
        "model.add(BatchNormalization())\n",
        "model.add(Dropout(0.5))\n",
        "model.add(Dense(10))\n",
        "model.add(Activation('softmax'))\n",
        "model.summary()\n",
        "\n",
        "# callback\n",
        "earlystop = EarlyStopping(monitor=\"val_accuracy\", \n",
        "                          patience=5, \n",
        "                          verbose=1\n",
        "                          )\n",
        "\n",
        "\n",
        "model.compile(loss=binary_crossentropy,\n",
        "              optimizer=Adam(),\n",
        "              metrics=['accuracy']\n",
        "              )\n",
        "\n",
        "history = model.fit(x_train_original, y_train,\n",
        "                    batch_size=batch_size,\n",
        "                    epochs=epochs,\n",
        "                    verbose=1,\n",
        "                    validation_data=(x_test_original, y_test),\n",
        "                    steps_per_epoch=None,\n",
        "                    callbacks=[earlystop])"
      ],
      "execution_count": 0,
      "outputs": [
        {
          "output_type": "stream",
          "text": [
            "Model: \"sequential_11\"\n",
            "_________________________________________________________________\n",
            "Layer (type)                 Output Shape              Param #   \n",
            "=================================================================\n",
            "conv2d_35 (Conv2D)           (None, 28, 28, 64)        640       \n",
            "_________________________________________________________________\n",
            "activation_12 (Activation)   (None, 28, 28, 64)        0         \n",
            "_________________________________________________________________\n",
            "batch_normalization (BatchNo (None, 28, 28, 64)        256       \n",
            "_________________________________________________________________\n",
            "max_pooling2d_19 (MaxPooling (None, 14, 14, 64)        0         \n",
            "_________________________________________________________________\n",
            "conv2d_36 (Conv2D)           (None, 12, 12, 128)       73856     \n",
            "_________________________________________________________________\n",
            "activation_13 (Activation)   (None, 12, 12, 128)       0         \n",
            "_________________________________________________________________\n",
            "batch_normalization_1 (Batch (None, 12, 12, 128)       512       \n",
            "_________________________________________________________________\n",
            "max_pooling2d_20 (MaxPooling (None, 6, 6, 128)         0         \n",
            "_________________________________________________________________\n",
            "dropout_6 (Dropout)          (None, 6, 6, 128)         0         \n",
            "_________________________________________________________________\n",
            "conv2d_37 (Conv2D)           (None, 6, 6, 256)         295168    \n",
            "_________________________________________________________________\n",
            "activation_14 (Activation)   (None, 6, 6, 256)         0         \n",
            "_________________________________________________________________\n",
            "batch_normalization_2 (Batch (None, 6, 6, 256)         1024      \n",
            "_________________________________________________________________\n",
            "flatten_8 (Flatten)          (None, 9216)              0         \n",
            "_________________________________________________________________\n",
            "dense_18 (Dense)             (None, 512)               4719104   \n",
            "_________________________________________________________________\n",
            "activation_15 (Activation)   (None, 512)               0         \n",
            "_________________________________________________________________\n",
            "batch_normalization_3 (Batch (None, 512)               2048      \n",
            "_________________________________________________________________\n",
            "dropout_7 (Dropout)          (None, 512)               0         \n",
            "_________________________________________________________________\n",
            "dense_19 (Dense)             (None, 10)                5130      \n",
            "_________________________________________________________________\n",
            "activation_16 (Activation)   (None, 10)                0         \n",
            "=================================================================\n",
            "Total params: 5,097,738\n",
            "Trainable params: 5,095,818\n",
            "Non-trainable params: 1,920\n",
            "_________________________________________________________________\n",
            "Epoch 1/20\n",
            "469/469 [==============================] - 13s 28ms/step - loss: 0.0748 - accuracy: 0.8536 - val_loss: 0.0964 - val_accuracy: 0.7953\n",
            "Epoch 2/20\n",
            "469/469 [==============================] - 13s 27ms/step - loss: 0.0482 - accuracy: 0.9038 - val_loss: 0.0480 - val_accuracy: 0.9033\n",
            "Epoch 3/20\n",
            "469/469 [==============================] - 13s 27ms/step - loss: 0.0417 - accuracy: 0.9165 - val_loss: 0.0502 - val_accuracy: 0.8985\n",
            "Epoch 4/20\n",
            "469/469 [==============================] - 13s 27ms/step - loss: 0.0370 - accuracy: 0.9257 - val_loss: 0.0498 - val_accuracy: 0.9034\n",
            "Epoch 5/20\n",
            "469/469 [==============================] - 13s 27ms/step - loss: 0.0334 - accuracy: 0.9338 - val_loss: 0.0422 - val_accuracy: 0.9163\n",
            "Epoch 6/20\n",
            "469/469 [==============================] - 13s 27ms/step - loss: 0.0304 - accuracy: 0.9390 - val_loss: 0.0394 - val_accuracy: 0.9244\n",
            "Epoch 7/20\n",
            "469/469 [==============================] - 12s 27ms/step - loss: 0.0280 - accuracy: 0.9442 - val_loss: 0.0395 - val_accuracy: 0.9248\n",
            "Epoch 8/20\n",
            "469/469 [==============================] - 13s 27ms/step - loss: 0.0264 - accuracy: 0.9476 - val_loss: 0.0402 - val_accuracy: 0.9258\n",
            "Epoch 9/20\n",
            "469/469 [==============================] - 13s 27ms/step - loss: 0.0231 - accuracy: 0.9545 - val_loss: 0.0459 - val_accuracy: 0.9205\n",
            "Epoch 10/20\n",
            "469/469 [==============================] - 13s 27ms/step - loss: 0.0209 - accuracy: 0.9583 - val_loss: 0.0428 - val_accuracy: 0.9222\n",
            "Epoch 11/20\n",
            "469/469 [==============================] - 13s 27ms/step - loss: 0.0203 - accuracy: 0.9605 - val_loss: 0.0482 - val_accuracy: 0.9168\n",
            "Epoch 12/20\n",
            "469/469 [==============================] - 13s 27ms/step - loss: 0.0178 - accuracy: 0.9655 - val_loss: 0.0701 - val_accuracy: 0.8822\n",
            "Epoch 13/20\n",
            "469/469 [==============================] - 13s 27ms/step - loss: 0.0163 - accuracy: 0.9685 - val_loss: 0.0423 - val_accuracy: 0.9269\n",
            "Epoch 14/20\n",
            "469/469 [==============================] - 13s 27ms/step - loss: 0.0147 - accuracy: 0.9716 - val_loss: 0.0508 - val_accuracy: 0.9179\n",
            "Epoch 15/20\n",
            "469/469 [==============================] - 13s 27ms/step - loss: 0.0138 - accuracy: 0.9735 - val_loss: 0.0583 - val_accuracy: 0.9133\n",
            "Epoch 16/20\n",
            "469/469 [==============================] - 13s 27ms/step - loss: 0.0126 - accuracy: 0.9761 - val_loss: 0.0446 - val_accuracy: 0.9284\n",
            "Epoch 17/20\n",
            "469/469 [==============================] - 13s 27ms/step - loss: 0.0117 - accuracy: 0.9779 - val_loss: 0.0523 - val_accuracy: 0.9239\n",
            "Epoch 18/20\n",
            "469/469 [==============================] - 13s 27ms/step - loss: 0.0116 - accuracy: 0.9774 - val_loss: 0.0486 - val_accuracy: 0.9238\n",
            "Epoch 19/20\n",
            "469/469 [==============================] - 13s 27ms/step - loss: 0.0100 - accuracy: 0.9812 - val_loss: 0.0475 - val_accuracy: 0.9280\n",
            "Epoch 20/20\n",
            "469/469 [==============================] - 13s 27ms/step - loss: 0.0098 - accuracy: 0.9817 - val_loss: 0.0515 - val_accuracy: 0.9280\n"
          ],
          "name": "stdout"
        }
      ]
    },
    {
      "cell_type": "code",
      "metadata": {
        "id": "j04QiL8StI5g",
        "colab_type": "code",
        "outputId": "4e458b14-a383-4253-e37d-29440970c271",
        "colab": {
          "base_uri": "https://localhost:8080/",
          "height": 1000
        }
      },
      "source": [
        "batch_size = 128\n",
        "epochs = 20\n",
        "\n",
        "\n",
        "model = Sequential()\n",
        "model.add(Conv2D(64, (3, 3), padding='same',               \n",
        "                 input_shape=x_test_original.shape[1:]))  \n",
        "model.add(Activation('relu'))\n",
        "model.add(BatchNormalization())\n",
        "model.add(MaxPooling2D(pool_size=(2, 2)))    \n",
        "model.add(Conv2D(128, (3, 3)))                  \n",
        "model.add(Activation('relu'))\n",
        "model.add(BatchNormalization())\n",
        "model.add(MaxPooling2D(pool_size=(2, 2)))\n",
        "model.add(Dropout(0.25))\n",
        "\n",
        "\n",
        "\n",
        "model.add(Conv2D(256, (3, 3), padding='same'))  \n",
        "model.add(Activation('relu'))\n",
        "model.add(BatchNormalization())\n",
        "\n",
        "model.add(Flatten())\n",
        "model.add(Dense(256))      # 修改\n",
        "model.add(Activation('relu'))\n",
        "model.add(BatchNormalization())\n",
        "model.add(Dropout(0.5))\n",
        "model.add(Dense(10))\n",
        "model.add(Activation('softmax'))\n",
        "model.summary()\n",
        "\n",
        "# callback\n",
        "earlystop = EarlyStopping(monitor=\"val_accuracy\", \n",
        "                          patience=5, \n",
        "                          verbose=1\n",
        "                          )\n",
        "\n",
        "\n",
        "model.compile(loss=binary_crossentropy,\n",
        "              optimizer=Adam(),\n",
        "              metrics=['accuracy']\n",
        "              )\n",
        "\n",
        "history = model.fit(x_train_original, y_train,\n",
        "                    batch_size=batch_size,\n",
        "                    epochs=epochs,\n",
        "                    verbose=1,\n",
        "                    validation_data=(x_test_original, y_test),\n",
        "                    steps_per_epoch=None,\n",
        "                    callbacks=[earlystop])"
      ],
      "execution_count": 0,
      "outputs": [
        {
          "output_type": "stream",
          "text": [
            "Model: \"sequential_12\"\n",
            "_________________________________________________________________\n",
            "Layer (type)                 Output Shape              Param #   \n",
            "=================================================================\n",
            "conv2d_38 (Conv2D)           (None, 28, 28, 64)        640       \n",
            "_________________________________________________________________\n",
            "activation_17 (Activation)   (None, 28, 28, 64)        0         \n",
            "_________________________________________________________________\n",
            "batch_normalization_4 (Batch (None, 28, 28, 64)        256       \n",
            "_________________________________________________________________\n",
            "max_pooling2d_21 (MaxPooling (None, 14, 14, 64)        0         \n",
            "_________________________________________________________________\n",
            "conv2d_39 (Conv2D)           (None, 12, 12, 128)       73856     \n",
            "_________________________________________________________________\n",
            "activation_18 (Activation)   (None, 12, 12, 128)       0         \n",
            "_________________________________________________________________\n",
            "batch_normalization_5 (Batch (None, 12, 12, 128)       512       \n",
            "_________________________________________________________________\n",
            "max_pooling2d_22 (MaxPooling (None, 6, 6, 128)         0         \n",
            "_________________________________________________________________\n",
            "dropout_8 (Dropout)          (None, 6, 6, 128)         0         \n",
            "_________________________________________________________________\n",
            "conv2d_40 (Conv2D)           (None, 6, 6, 256)         295168    \n",
            "_________________________________________________________________\n",
            "activation_19 (Activation)   (None, 6, 6, 256)         0         \n",
            "_________________________________________________________________\n",
            "batch_normalization_6 (Batch (None, 6, 6, 256)         1024      \n",
            "_________________________________________________________________\n",
            "flatten_9 (Flatten)          (None, 9216)              0         \n",
            "_________________________________________________________________\n",
            "dense_20 (Dense)             (None, 256)               2359552   \n",
            "_________________________________________________________________\n",
            "activation_20 (Activation)   (None, 256)               0         \n",
            "_________________________________________________________________\n",
            "batch_normalization_7 (Batch (None, 256)               1024      \n",
            "_________________________________________________________________\n",
            "dropout_9 (Dropout)          (None, 256)               0         \n",
            "_________________________________________________________________\n",
            "dense_21 (Dense)             (None, 10)                2570      \n",
            "_________________________________________________________________\n",
            "activation_21 (Activation)   (None, 10)                0         \n",
            "=================================================================\n",
            "Total params: 2,734,602\n",
            "Trainable params: 2,733,194\n",
            "Non-trainable params: 1,408\n",
            "_________________________________________________________________\n",
            "Epoch 1/20\n",
            "469/469 [==============================] - 12s 25ms/step - loss: 0.0754 - accuracy: 0.8515 - val_loss: 0.1248 - val_accuracy: 0.7476\n",
            "Epoch 2/20\n",
            "469/469 [==============================] - 12s 25ms/step - loss: 0.0498 - accuracy: 0.9003 - val_loss: 0.0550 - val_accuracy: 0.8905\n",
            "Epoch 3/20\n",
            "469/469 [==============================] - 12s 25ms/step - loss: 0.0420 - accuracy: 0.9167 - val_loss: 0.0468 - val_accuracy: 0.9028\n",
            "Epoch 4/20\n",
            "469/469 [==============================] - 12s 25ms/step - loss: 0.0377 - accuracy: 0.9252 - val_loss: 0.0486 - val_accuracy: 0.9044\n",
            "Epoch 5/20\n",
            "469/469 [==============================] - 12s 25ms/step - loss: 0.0343 - accuracy: 0.9315 - val_loss: 0.0759 - val_accuracy: 0.8728\n",
            "Epoch 6/20\n",
            "469/469 [==============================] - 12s 25ms/step - loss: 0.0312 - accuracy: 0.9385 - val_loss: 0.0387 - val_accuracy: 0.9220\n",
            "Epoch 7/20\n",
            "469/469 [==============================] - 12s 25ms/step - loss: 0.0288 - accuracy: 0.9429 - val_loss: 0.0376 - val_accuracy: 0.9240\n",
            "Epoch 8/20\n",
            "469/469 [==============================] - 12s 25ms/step - loss: 0.0261 - accuracy: 0.9494 - val_loss: 0.0401 - val_accuracy: 0.9233\n",
            "Epoch 9/20\n",
            "469/469 [==============================] - 12s 25ms/step - loss: 0.0241 - accuracy: 0.9528 - val_loss: 0.0416 - val_accuracy: 0.9208\n",
            "Epoch 10/20\n",
            "469/469 [==============================] - 12s 25ms/step - loss: 0.0227 - accuracy: 0.9552 - val_loss: 0.0421 - val_accuracy: 0.9208\n",
            "Epoch 11/20\n",
            "469/469 [==============================] - 12s 25ms/step - loss: 0.0210 - accuracy: 0.9591 - val_loss: 0.0475 - val_accuracy: 0.9129\n",
            "Epoch 12/20\n",
            "469/469 [==============================] - 12s 25ms/step - loss: 0.0188 - accuracy: 0.9629 - val_loss: 0.0417 - val_accuracy: 0.9248\n",
            "Epoch 13/20\n",
            "469/469 [==============================] - 12s 25ms/step - loss: 0.0172 - accuracy: 0.9669 - val_loss: 0.0450 - val_accuracy: 0.9206\n",
            "Epoch 14/20\n",
            "469/469 [==============================] - 12s 25ms/step - loss: 0.0159 - accuracy: 0.9693 - val_loss: 0.0529 - val_accuracy: 0.9091\n",
            "Epoch 15/20\n",
            "469/469 [==============================] - 12s 25ms/step - loss: 0.0142 - accuracy: 0.9725 - val_loss: 0.0588 - val_accuracy: 0.9124\n",
            "Epoch 16/20\n",
            "469/469 [==============================] - 12s 25ms/step - loss: 0.0137 - accuracy: 0.9733 - val_loss: 0.0518 - val_accuracy: 0.9204\n",
            "Epoch 17/20\n",
            "469/469 [==============================] - 12s 25ms/step - loss: 0.0128 - accuracy: 0.9763 - val_loss: 0.0425 - val_accuracy: 0.9279\n",
            "Epoch 18/20\n",
            "469/469 [==============================] - 12s 25ms/step - loss: 0.0119 - accuracy: 0.9773 - val_loss: 0.0469 - val_accuracy: 0.9259\n",
            "Epoch 19/20\n",
            "469/469 [==============================] - 12s 25ms/step - loss: 0.0105 - accuracy: 0.9807 - val_loss: 0.0494 - val_accuracy: 0.9240\n",
            "Epoch 20/20\n",
            "469/469 [==============================] - 12s 25ms/step - loss: 0.0101 - accuracy: 0.9806 - val_loss: 0.0480 - val_accuracy: 0.9271\n"
          ],
          "name": "stdout"
        }
      ]
    },
    {
      "cell_type": "markdown",
      "metadata": {
        "id": "lmMULHxduu2l",
        "colab_type": "text"
      },
      "source": [
        "## 結論\n",
        "- 加深acc會提高，但訓練速度也會減慢許多，在目前計算資源有限下, 我沒有繼續加深測試。\n",
        "- Adam優化器表現上還是比較優秀的，但lr我並沒有調整，這也是可以測試的項目之一。\n",
        "- MaxPooling2D表現較好, 但實際真實意義需要去看paper才能完整了解, 暫時沒有。\n",
        "- 理論上, 專為二元分類的損失函數表現會比較好, 但測試結果並沒有顯著差異。\n",
        "- 其餘測試結果如上次全連結差不多。\n",
        "- 我就沒有去測試一些RESNET等經典模型, 之後可以考慮用經典模型去測試。\n",
        "    - 如1x1的特徵汲取等等。"
      ]
    },
    {
      "cell_type": "code",
      "metadata": {
        "id": "J-prP5lcvoAg",
        "colab_type": "code",
        "colab": {}
      },
      "source": [
        ""
      ],
      "execution_count": 0,
      "outputs": []
    }
  ]
}
