{
  "nbformat": 4,
  "nbformat_minor": 0,
  "metadata": {
    "kernelspec": {
      "display_name": "Python 3",
      "language": "python",
      "name": "python3"
    },
    "language_info": {
      "codemirror_mode": {
        "name": "ipython",
        "version": 3
      },
      "file_extension": ".py",
      "mimetype": "text/x-python",
      "name": "python",
      "nbconvert_exporter": "python",
      "pygments_lexer": "ipython3",
      "version": "3.7.3"
    },
    "colab": {
      "name": "006_RNN_imdb.ipynb",
      "provenance": [],
      "collapsed_sections": []
    },
    "accelerator": "GPU"
  },
  "cells": [
    {
      "cell_type": "markdown",
      "metadata": {
        "id": "xQoz2MkEGf4N",
        "colab_type": "text"
      },
      "source": [
        "# 訓練計畫\n",
        "- ## num_words 改變\n",
        "    - 10000\n",
        "    - 5000\n",
        "- ## max_len 改變\n",
        "    - 100\n",
        "    - 125\n",
        "    - 150\n",
        "- ## output_dim 改變\n",
        "    - 128\n",
        "    - 256\n",
        "- ## dropout 如果出現overfitting嚴重才考慮\n",
        "- ## optimizer 因為adam是很棒的優化器, 暫時不考慮\n",
        "- ## SimpleRNN, GRU, LSTM\n",
        "    - "
      ]
    },
    {
      "cell_type": "code",
      "metadata": {
        "ExecuteTime": {
          "end_time": "2020-04-26T15:05:35.251661Z",
          "start_time": "2020-04-26T15:05:34.276621Z"
        },
        "id": "bThpWW2_JwnQ",
        "colab_type": "code",
        "colab": {}
      },
      "source": [
        "\n",
        "# import must-use modules\n",
        "import numpy as np\n",
        "import pandas as pd\n",
        "import matplotlib.pyplot as plt"
      ],
      "execution_count": 0,
      "outputs": []
    },
    {
      "cell_type": "markdown",
      "metadata": {
        "id": "BtuXWCHQJwnv",
        "colab_type": "text"
      },
      "source": [
        "## 1. 讀入深度學習套件"
      ]
    },
    {
      "cell_type": "code",
      "metadata": {
        "ExecuteTime": {
          "end_time": "2020-04-26T15:31:23.888440Z",
          "start_time": "2020-04-26T15:31:23.883689Z"
        },
        "id": "A-YHD5L6Jwn1",
        "colab_type": "code",
        "colab": {}
      },
      "source": [
        "from tensorflow.keras.datasets import imdb\n",
        "from tensorflow.keras.preprocessing import sequence\n",
        "from tensorflow.keras.models import Sequential\n",
        "from tensorflow.keras.layers import Dense, LSTM, GRU, SimpleRNN\n",
        "from tensorflow.keras.layers import Embedding"
      ],
      "execution_count": 0,
      "outputs": []
    },
    {
      "cell_type": "markdown",
      "metadata": {
        "id": "Q6ZQTNlwJwoC",
        "colab_type": "text"
      },
      "source": [
        "## 2. 讀入data"
      ]
    },
    {
      "cell_type": "code",
      "metadata": {
        "ExecuteTime": {
          "end_time": "2020-04-26T15:09:49.627169Z",
          "start_time": "2020-04-26T15:09:40.292826Z"
        },
        "id": "0bvjw2f-JwoG",
        "colab_type": "code",
        "outputId": "fb2e6a42-4e9c-44ed-a389-a36d7a1b78c8",
        "colab": {
          "base_uri": "https://localhost:8080/",
          "height": 51
        }
      },
      "source": [
        "(x_train, y_train), (x_test, y_test) = imdb.load_data(num_words=10000)    # 最多只有10000個index, 多的都會變成unknown, 避免字典過於龐大"
      ],
      "execution_count": 0,
      "outputs": [
        {
          "output_type": "stream",
          "text": [
            "Downloading data from https://storage.googleapis.com/tensorflow/tf-keras-datasets/imdb.npz\n",
            "17465344/17464789 [==============================] - 0s 0us/step\n"
          ],
          "name": "stdout"
        }
      ]
    },
    {
      "cell_type": "code",
      "metadata": {
        "ExecuteTime": {
          "end_time": "2020-04-26T15:10:25.478376Z",
          "start_time": "2020-04-26T15:10:25.472392Z"
        },
        "id": "oi9zqXPrJwoV",
        "colab_type": "code",
        "outputId": "6573385b-e7f5-436d-eb1a-da7854083450",
        "colab": {
          "base_uri": "https://localhost:8080/",
          "height": 86
        }
      },
      "source": [
        "print(x_train.shape, x_test.shape, y_train.shape, y_test.shape, sep='\\n')"
      ],
      "execution_count": 0,
      "outputs": [
        {
          "output_type": "stream",
          "text": [
            "(25000,)\n",
            "(25000,)\n",
            "(25000,)\n",
            "(25000,)\n"
          ],
          "name": "stdout"
        }
      ]
    },
    {
      "cell_type": "code",
      "metadata": {
        "ExecuteTime": {
          "end_time": "2020-04-26T15:18:12.937144Z",
          "start_time": "2020-04-26T15:18:12.929935Z"
        },
        "id": "aECHTI5zJwov",
        "colab_type": "code",
        "outputId": "2d6cd23e-c179-4b08-8610-0e42e110f25a",
        "colab": {
          "base_uri": "https://localhost:8080/",
          "height": 34
        }
      },
      "source": [
        "# 查看單一樣本評價字數\n",
        "\n",
        "len(x_train[18])"
      ],
      "execution_count": 0,
      "outputs": [
        {
          "output_type": "execute_result",
          "data": {
            "text/plain": [
              "212"
            ]
          },
          "metadata": {
            "tags": []
          },
          "execution_count": 4
        }
      ]
    },
    {
      "cell_type": "code",
      "metadata": {
        "ExecuteTime": {
          "end_time": "2020-04-26T15:19:30.556538Z",
          "start_time": "2020-04-26T15:19:30.549996Z"
        },
        "id": "Twok9VccJwpK",
        "colab_type": "code",
        "outputId": "f0752f4c-f9b1-4569-f980-c41b8d48a52a",
        "colab": {
          "base_uri": "https://localhost:8080/",
          "height": 34
        }
      },
      "source": [
        "# 可以知道, 每個input shape是不一樣的\n",
        "\n",
        "len(x_train[0])"
      ],
      "execution_count": 0,
      "outputs": [
        {
          "output_type": "execute_result",
          "data": {
            "text/plain": [
              "218"
            ]
          },
          "metadata": {
            "tags": []
          },
          "execution_count": 5
        }
      ]
    },
    {
      "cell_type": "code",
      "metadata": {
        "ExecuteTime": {
          "end_time": "2020-04-26T15:20:54.102117Z",
          "start_time": "2020-04-26T15:20:54.096996Z"
        },
        "id": "dE4pzGOWJwpm",
        "colab_type": "code",
        "outputId": "ec914ea5-6530-4e04-8473-5331cbc303b8",
        "colab": {
          "base_uri": "https://localhost:8080/",
          "height": 51
        }
      },
      "source": [
        "print(y_train[18], y_train[0], sep='\\n')"
      ],
      "execution_count": 0,
      "outputs": [
        {
          "output_type": "stream",
          "text": [
            "0\n",
            "1\n"
          ],
          "name": "stdout"
        }
      ]
    },
    {
      "cell_type": "markdown",
      "metadata": {
        "id": "U60PUtwfJwqM",
        "colab_type": "text"
      },
      "source": [
        "## 3. 資料處理"
      ]
    },
    {
      "cell_type": "code",
      "metadata": {
        "ExecuteTime": {
          "end_time": "2020-04-26T15:24:19.124253Z",
          "start_time": "2020-04-26T15:24:17.713748Z"
        },
        "id": "m5UIG_8rJwqP",
        "colab_type": "code",
        "colab": {}
      },
      "source": [
        "# 資料長度把他固定在100, 多扣少補\n",
        "# 有點疑惑這樣不會造成重要訊息的失去嗎?\n",
        "\n",
        "x_train = sequence.pad_sequences(x_train, maxlen=100)\n",
        "x_test = sequence.pad_sequences(x_test, maxlen=100)"
      ],
      "execution_count": 0,
      "outputs": []
    },
    {
      "cell_type": "code",
      "metadata": {
        "ExecuteTime": {
          "end_time": "2020-04-26T15:24:47.932487Z",
          "start_time": "2020-04-26T15:24:47.924507Z"
        },
        "id": "KKMhlahDJwqg",
        "colab_type": "code",
        "outputId": "4cf05112-67cf-45b1-9171-ab3ae614f520",
        "colab": {
          "base_uri": "https://localhost:8080/",
          "height": 34
        }
      },
      "source": [
        "x_train[0].shape"
      ],
      "execution_count": 0,
      "outputs": [
        {
          "output_type": "execute_result",
          "data": {
            "text/plain": [
              "(100,)"
            ]
          },
          "metadata": {
            "tags": []
          },
          "execution_count": 8
        }
      ]
    },
    {
      "cell_type": "code",
      "metadata": {
        "ExecuteTime": {
          "end_time": "2020-04-26T15:25:49.097633Z",
          "start_time": "2020-04-26T15:25:49.091347Z"
        },
        "id": "ngD9gYOXJwqw",
        "colab_type": "code",
        "outputId": "86b9c900-80a2-4477-ba41-76ec5ba3261a",
        "colab": {
          "base_uri": "https://localhost:8080/",
          "height": 34
        }
      },
      "source": [
        "x_train[18].shape"
      ],
      "execution_count": 0,
      "outputs": [
        {
          "output_type": "execute_result",
          "data": {
            "text/plain": [
              "(100,)"
            ]
          },
          "metadata": {
            "tags": []
          },
          "execution_count": 9
        }
      ]
    },
    {
      "cell_type": "markdown",
      "metadata": {
        "id": "kbn4pwp4Jwq7",
        "colab_type": "text"
      },
      "source": [
        "## 4. 模型建立"
      ]
    },
    {
      "cell_type": "code",
      "metadata": {
        "ExecuteTime": {
          "end_time": "2020-04-26T15:33:12.187372Z",
          "start_time": "2020-04-26T15:33:11.020152Z"
        },
        "id": "vJKxN33YJwq-",
        "colab_type": "code",
        "outputId": "9001a2f0-720d-459d-f5c6-abec98d8d315",
        "colab": {
          "base_uri": "https://localhost:8080/",
          "height": 294
        }
      },
      "source": [
        "model = Sequential()\n",
        "model.add(Embedding(input_dim=10000, output_dim=128))\n",
        "model.add(LSTM(256, dropout=0.2, recurrent_dropout=0.2))\n",
        "model.add(Dense(1, activation='sigmoid'))\n",
        "\n",
        "model.summary()"
      ],
      "execution_count": 0,
      "outputs": [
        {
          "output_type": "stream",
          "text": [
            "WARNING:tensorflow:Layer lstm will not use cuDNN kernel since it doesn't meet the cuDNN kernel criteria. It will use generic GPU kernel as fallback when running on GPU\n",
            "Model: \"sequential\"\n",
            "_________________________________________________________________\n",
            "Layer (type)                 Output Shape              Param #   \n",
            "=================================================================\n",
            "embedding (Embedding)        (None, None, 128)         1280000   \n",
            "_________________________________________________________________\n",
            "lstm (LSTM)                  (None, 256)               394240    \n",
            "_________________________________________________________________\n",
            "dense (Dense)                (None, 1)                 257       \n",
            "=================================================================\n",
            "Total params: 1,674,497\n",
            "Trainable params: 1,674,497\n",
            "Non-trainable params: 0\n",
            "_________________________________________________________________\n"
          ],
          "name": "stdout"
        }
      ]
    },
    {
      "cell_type": "code",
      "metadata": {
        "ExecuteTime": {
          "end_time": "2020-04-26T15:33:13.836612Z",
          "start_time": "2020-04-26T15:33:13.767173Z"
        },
        "id": "BudWjMIlJwrN",
        "colab_type": "code",
        "colab": {}
      },
      "source": [
        "model.compile(loss='binary_crossentropy', \n",
        "             optimizer='adam',\n",
        "             metrics=['accuracy'])"
      ],
      "execution_count": 0,
      "outputs": []
    },
    {
      "cell_type": "markdown",
      "metadata": {
        "id": "oOC14vo-JwrT",
        "colab_type": "text"
      },
      "source": [
        "## 5. 模型訓練"
      ]
    },
    {
      "cell_type": "code",
      "metadata": {
        "ExecuteTime": {
          "end_time": "2020-04-26T15:40:22.751214Z",
          "start_time": "2020-04-26T15:34:08.332284Z"
        },
        "id": "HkXjgRVDJwrU",
        "colab_type": "code",
        "outputId": "83a6e91b-54e7-4859-83d8-8b4fc330e759",
        "colab": {
          "base_uri": "https://localhost:8080/",
          "height": 206
        }
      },
      "source": [
        "model.fit(x_train, y_train, batch_size=32, epochs=5,\n",
        "         validation_data=(x_test, y_test))"
      ],
      "execution_count": 0,
      "outputs": [
        {
          "output_type": "stream",
          "text": [
            "Epoch 1/5\n",
            "782/782 [==============================] - 297s 380ms/step - loss: 0.4471 - accuracy: 0.7868 - val_loss: 0.3600 - val_accuracy: 0.8425\n",
            "Epoch 2/5\n",
            "782/782 [==============================] - 294s 376ms/step - loss: 0.2904 - accuracy: 0.8810 - val_loss: 0.3753 - val_accuracy: 0.8410\n",
            "Epoch 3/5\n",
            "782/782 [==============================] - 292s 373ms/step - loss: 0.2007 - accuracy: 0.9232 - val_loss: 0.3773 - val_accuracy: 0.8457\n",
            "Epoch 4/5\n",
            "782/782 [==============================] - 291s 373ms/step - loss: 0.1401 - accuracy: 0.9476 - val_loss: 0.4868 - val_accuracy: 0.8380\n",
            "Epoch 5/5\n",
            "782/782 [==============================] - 291s 372ms/step - loss: 0.1075 - accuracy: 0.9607 - val_loss: 0.5407 - val_accuracy: 0.8366\n"
          ],
          "name": "stdout"
        },
        {
          "output_type": "execute_result",
          "data": {
            "text/plain": [
              "<tensorflow.python.keras.callbacks.History at 0x7fb25b5c1ac8>"
            ]
          },
          "metadata": {
            "tags": []
          },
          "execution_count": 12
        }
      ]
    },
    {
      "cell_type": "code",
      "metadata": {
        "id": "0gScoA6VJwrb",
        "colab_type": "code",
        "colab": {}
      },
      "source": [
        "# model參數化, 以及儲存為h5格式。\n",
        "\n",
        "model_json = model.to_json()\n",
        "open('imdb_model_architecture.json', 'w').write(model_json)\n",
        "model.save_weights('imdb_model_weights.h5')"
      ],
      "execution_count": 0,
      "outputs": []
    },
    {
      "cell_type": "markdown",
      "metadata": {
        "id": "LxSE3UslQzie",
        "colab_type": "text"
      },
      "source": [
        "## num_words change\n",
        "- ### 改變原因: 想知道不同的字典大小, 對於模型的結果。"
      ]
    },
    {
      "cell_type": "code",
      "metadata": {
        "id": "3a1_P3qZIPDN",
        "colab_type": "code",
        "colab": {}
      },
      "source": [
        "## num_words 5000\n",
        "\n",
        "(x_train_5t, y_train_5t), (x_test_5t, y_test_5t) = imdb.load_data(num_words=5000)\n",
        "\n",
        "x_train_5t = sequence.pad_sequences(x_train_5t, maxlen=100)\n",
        "x_test_5t = sequence.pad_sequences(x_test_5t, maxlen=100)\n",
        "\n",
        "model_5t = Sequential()\n",
        "model_5t.add(Embedding(input_dim=5000, output_dim=128))\n",
        "model_5t.add(LSTM(256, dropout=0.2, recurrent_dropout=0.2))\n",
        "model_5t.add(Dense(1, activation='sigmoid'))\n",
        "\n",
        "model_5t.summary()\n",
        "\n",
        "model_5t.compile(loss='binary_crossentropy',\n",
        "              optimizer='adam',\n",
        "              metrics=['accuracy'])\n",
        "\n",
        "model_5t.fit(x_train_5t, y_train_5t, batch_size=32, epochs=5,\n",
        "          validation_data=(x_test_5t, y_test_5t))\n",
        "\n",
        "\n",
        "# Model: \"sequential\"\n",
        "# _________________________________________________________________\n",
        "# Layer (type)                 Output Shape              Param #   \n",
        "# =================================================================\n",
        "# embedding (Embedding)        (None, None, 128)         640000    \n",
        "# _________________________________________________________________\n",
        "# lstm (LSTM)                  (None, 256)               394240    \n",
        "# _________________________________________________________________\n",
        "# dense (Dense)                (None, 1)                 257       \n",
        "# =================================================================\n",
        "# Total params: 1,034,497\n",
        "# Trainable params: 1,034,497\n",
        "# Non-trainable params: 0\n",
        "# _________________________________________________________________\n",
        "# Train on 25000 samples, validate on 25000 samples\n",
        "# Epoch 1/5\n",
        "# 25000/25000 [==============================] - 397s 16ms/sample - loss: 0.4854 - accuracy: 0.7626 - val_loss: 0.3937 - val_accuracy: 0.8258\n",
        "# Epoch 2/5\n",
        "# 25000/25000 [==============================] - 380s 15ms/sample - loss: 0.3547 - accuracy: 0.8488 - val_loss: 0.4008 - val_accuracy: 0.8214\n",
        "# Epoch 3/5\n",
        "# 25000/25000 [==============================] - 482s 19ms/sample - loss: 0.2934 - accuracy: 0.8776 - val_loss: 0.3656 - val_accuracy: 0.8395\n",
        "# Epoch 4/5\n",
        "# 25000/25000 [==============================] - 434s 17ms/sample - loss: 0.2501 - accuracy: 0.8993 - val_loss: 0.3651 - val_accuracy: 0.8491\n",
        "# Epoch 5/5\n",
        "# 25000/25000 [==============================] - 427s 17ms/sample - loss: 0.2128 - accuracy: 0.9170 - val_loss: 0.4292 - val_accuracy: 0.8342"
      ],
      "execution_count": 0,
      "outputs": []
    },
    {
      "cell_type": "markdown",
      "metadata": {
        "id": "f4krAjXDQ9_b",
        "colab_type": "text"
      },
      "source": [
        "## max_len 改變\n",
        "- ### 改變原因：想知道, max_len對於模型的影響, 推測至少要大於最長的會比較好, 因為不會有資料損失的情況, 但可能會多一些雜訊。"
      ]
    },
    {
      "cell_type": "code",
      "metadata": {
        "id": "ZIzJirBhKCEm",
        "colab_type": "code",
        "colab": {}
      },
      "source": [
        "## max_len: 150\n",
        "\n",
        "(x_train_5t, y_train_5t), (x_test_5t, y_test_5t) = imdb.load_data(num_words=10000)\n",
        "\n",
        "x_train_5t = sequence.pad_sequences(x_train_5t, maxlen=150)\n",
        "x_test_5t = sequence.pad_sequences(x_test_5t, maxlen=150)\n",
        "\n",
        "model_5t = Sequential()\n",
        "model_5t.add(Embedding(input_dim=10000, output_dim=128))\n",
        "model_5t.add(LSTM(256, dropout=0.2, recurrent_dropout=0.2))\n",
        "model_5t.add(Dense(1, activation='sigmoid'))\n",
        "\n",
        "model_5t.summary()\n",
        "\n",
        "model_5t.compile(loss='binary_crossentropy',\n",
        "              optimizer='adam',\n",
        "              metrics=['accuracy'])\n",
        "\n",
        "model_5t.fit(x_train_5t, y_train_5t, batch_size=32, epochs=5,\n",
        "          validation_data=(x_test_5t, y_test_5t))\n",
        "\n",
        "\n",
        "# Model: \"sequential_1\"\n",
        "# _________________________________________________________________\n",
        "# Layer (type)                 Output Shape              Param #   \n",
        "# =================================================================\n",
        "# embedding_1 (Embedding)      (None, None, 128)         1280000   \n",
        "# _________________________________________________________________\n",
        "# lstm_1 (LSTM)                (None, 256)               394240    \n",
        "# _________________________________________________________________\n",
        "# dense_1 (Dense)              (None, 1)                 257       \n",
        "# =================================================================\n",
        "# Total params: 1,674,497\n",
        "# Trainable params: 1,674,497\n",
        "# Non-trainable params: 0\n",
        "# _________________________________________________________________\n",
        "# Train on 25000 samples, validate on 25000 samples\n",
        "# Epoch 1/5\n",
        "# 25000/25000 [==============================] - 625s 25ms/sample - loss: 0.4941 - accuracy: 0.7614 - val_loss: 0.3913 - val_accuracy: 0.8317\n",
        "# Epoch 2/5\n",
        "# 25000/25000 [==============================] - 637s 25ms/sample - loss: 0.3813 - accuracy: 0.8341 - val_loss: 0.3901 - val_accuracy: 0.8348\n",
        "# Epoch 3/5\n",
        "# 25000/25000 [==============================] - 621s 25ms/sample - loss: 0.3511 - accuracy: 0.8501 - val_loss: 0.4491 - val_accuracy: 0.7885\n",
        "# Epoch 4/5\n",
        "# 25000/25000 [==============================] - 608s 24ms/sample - loss: 0.2547 - accuracy: 0.8972 - val_loss: 0.4213 - val_accuracy: 0.8324\n",
        "# Epoch 5/5\n",
        "# 25000/25000 [==============================] - 737s 29ms/sample - loss: 0.1960 - accuracy: 0.9251 - val_loss: 0.3681 - val_accuracy: 0.8528"
      ],
      "execution_count": 0,
      "outputs": []
    },
    {
      "cell_type": "code",
      "metadata": {
        "id": "xlt_ZiIKRpIP",
        "colab_type": "code",
        "colab": {
          "base_uri": "https://localhost:8080/",
          "height": 483
        },
        "outputId": "e95ed99e-5ec6-479d-94d0-283605f6dec0"
      },
      "source": [
        "## max_len: 125\n",
        "\n",
        "(x_train_5t, y_train_5t), (x_test_5t, y_test_5t) = imdb.load_data(num_words=10000)\n",
        "\n",
        "x_train_5t = sequence.pad_sequences(x_train_5t, maxlen=125)\n",
        "x_test_5t = sequence.pad_sequences(x_test_5t, maxlen=125)\n",
        "\n",
        "model_5t = Sequential()\n",
        "model_5t.add(Embedding(input_dim=10000, output_dim=128))\n",
        "model_5t.add(LSTM(256, dropout=0.2, recurrent_dropout=0.2))\n",
        "model_5t.add(Dense(1, activation='sigmoid'))\n",
        "\n",
        "model_5t.summary()\n",
        "\n",
        "model_5t.compile(loss='binary_crossentropy',\n",
        "              optimizer='adam',\n",
        "              metrics=['accuracy'])\n",
        "\n",
        "model_5t.fit(x_train_5t, y_train_5t, batch_size=32, epochs=5,\n",
        "          validation_data=(x_test_5t, y_test_5t))"
      ],
      "execution_count": 28,
      "outputs": [
        {
          "output_type": "stream",
          "text": [
            "WARNING:tensorflow:Layer lstm_11 will not use cuDNN kernel since it doesn't meet the cuDNN kernel criteria. It will use generic GPU kernel as fallback when running on GPU\n",
            "Model: \"sequential_14\"\n",
            "_________________________________________________________________\n",
            "Layer (type)                 Output Shape              Param #   \n",
            "=================================================================\n",
            "embedding_14 (Embedding)     (None, None, 128)         1280000   \n",
            "_________________________________________________________________\n",
            "lstm_11 (LSTM)               (None, 256)               394240    \n",
            "_________________________________________________________________\n",
            "dense_14 (Dense)             (None, 1)                 257       \n",
            "=================================================================\n",
            "Total params: 1,674,497\n",
            "Trainable params: 1,674,497\n",
            "Non-trainable params: 0\n",
            "_________________________________________________________________\n",
            "Epoch 1/5\n",
            "782/782 [==============================] - 375s 479ms/step - loss: 0.4493 - accuracy: 0.7862 - val_loss: 0.3552 - val_accuracy: 0.8493\n",
            "Epoch 2/5\n",
            "782/782 [==============================] - 382s 489ms/step - loss: 0.2803 - accuracy: 0.8888 - val_loss: 0.3449 - val_accuracy: 0.8550\n",
            "Epoch 3/5\n",
            "782/782 [==============================] - 379s 484ms/step - loss: 0.1961 - accuracy: 0.9242 - val_loss: 0.3836 - val_accuracy: 0.8436\n",
            "Epoch 4/5\n",
            "782/782 [==============================] - 394s 504ms/step - loss: 0.1403 - accuracy: 0.9472 - val_loss: 0.4080 - val_accuracy: 0.8521\n",
            "Epoch 5/5\n",
            "782/782 [==============================] - 394s 504ms/step - loss: 0.1086 - accuracy: 0.9620 - val_loss: 0.4358 - val_accuracy: 0.8413\n"
          ],
          "name": "stdout"
        },
        {
          "output_type": "execute_result",
          "data": {
            "text/plain": [
              "<tensorflow.python.keras.callbacks.History at 0x7fdebb537198>"
            ]
          },
          "metadata": {
            "tags": []
          },
          "execution_count": 28
        }
      ]
    },
    {
      "cell_type": "markdown",
      "metadata": {
        "id": "UtBflNGDR3we",
        "colab_type": "text"
      },
      "source": [
        "# outdim改變\n",
        "- ## 改變原因：壓縮到多少維度才會比較適合?改變此有沒有甚麼規則可循?"
      ]
    },
    {
      "cell_type": "code",
      "metadata": {
        "id": "P-J0J66NRzYa",
        "colab_type": "code",
        "colab": {
          "base_uri": "https://localhost:8080/",
          "height": 483
        },
        "outputId": "8edc9981-60a1-43e0-c4da-d919f9c2a786"
      },
      "source": [
        "## outdim: 256\n",
        "\n",
        "(x_train_5t, y_train_5t), (x_test_5t, y_test_5t) = imdb.load_data(num_words=10000)\n",
        "\n",
        "x_train_5t = sequence.pad_sequences(x_train_5t, maxlen=100)\n",
        "x_test_5t = sequence.pad_sequences(x_test_5t, maxlen=100)\n",
        "\n",
        "model_5t = Sequential()\n",
        "model_5t.add(Embedding(input_dim=10000, output_dim=256))\n",
        "model_5t.add(LSTM(256, dropout=0.2, recurrent_dropout=0.2))\n",
        "model_5t.add(Dense(1, activation='sigmoid'))\n",
        "\n",
        "model_5t.summary()\n",
        "\n",
        "model_5t.compile(loss='binary_crossentropy',\n",
        "              optimizer='adam',\n",
        "              metrics=['accuracy'])\n",
        "\n",
        "model_5t.fit(x_train_5t, y_train_5t, batch_size=32, epochs=5,\n",
        "          validation_data=(x_test_5t, y_test_5t))"
      ],
      "execution_count": 27,
      "outputs": [
        {
          "output_type": "stream",
          "text": [
            "WARNING:tensorflow:Layer lstm_10 will not use cuDNN kernel since it doesn't meet the cuDNN kernel criteria. It will use generic GPU kernel as fallback when running on GPU\n",
            "Model: \"sequential_13\"\n",
            "_________________________________________________________________\n",
            "Layer (type)                 Output Shape              Param #   \n",
            "=================================================================\n",
            "embedding_13 (Embedding)     (None, None, 256)         2560000   \n",
            "_________________________________________________________________\n",
            "lstm_10 (LSTM)               (None, 256)               525312    \n",
            "_________________________________________________________________\n",
            "dense_13 (Dense)             (None, 1)                 257       \n",
            "=================================================================\n",
            "Total params: 3,085,569\n",
            "Trainable params: 3,085,569\n",
            "Non-trainable params: 0\n",
            "_________________________________________________________________\n",
            "Epoch 1/5\n",
            "782/782 [==============================] - 304s 389ms/step - loss: 0.4487 - accuracy: 0.7899 - val_loss: 0.3626 - val_accuracy: 0.8433\n",
            "Epoch 2/5\n",
            "782/782 [==============================] - 304s 389ms/step - loss: 0.2745 - accuracy: 0.8901 - val_loss: 0.3455 - val_accuracy: 0.8514\n",
            "Epoch 3/5\n",
            "782/782 [==============================] - 305s 390ms/step - loss: 0.1908 - accuracy: 0.9277 - val_loss: 0.3925 - val_accuracy: 0.8472\n",
            "Epoch 4/5\n",
            "782/782 [==============================] - 305s 390ms/step - loss: 0.1359 - accuracy: 0.9495 - val_loss: 0.4405 - val_accuracy: 0.8454\n",
            "Epoch 5/5\n",
            "782/782 [==============================] - 305s 390ms/step - loss: 0.0927 - accuracy: 0.9674 - val_loss: 0.5796 - val_accuracy: 0.8344\n"
          ],
          "name": "stdout"
        },
        {
          "output_type": "execute_result",
          "data": {
            "text/plain": [
              "<tensorflow.python.keras.callbacks.History at 0x7fdea7b447b8>"
            ]
          },
          "metadata": {
            "tags": []
          },
          "execution_count": 27
        }
      ]
    },
    {
      "cell_type": "markdown",
      "metadata": {
        "id": "YhfraQUi7mYS",
        "colab_type": "text"
      },
      "source": [
        "# RNN 基礎結構改變\n",
        "- ## 改變原因：想知道是否在這個問題上，如同上課所述，simpleRnn < LSTM <= GRU"
      ]
    },
    {
      "cell_type": "code",
      "metadata": {
        "id": "pxnXBVNcS5AS",
        "colab_type": "code",
        "outputId": "3fae6155-190c-475c-86b1-0e3803fc9ab4",
        "colab": {
          "base_uri": "https://localhost:8080/",
          "height": 446
        }
      },
      "source": [
        "## SimpleRNN\n",
        "\n",
        "(x_train_5t, y_train_5t), (x_test_5t, y_test_5t) = imdb.load_data(num_words=10000)\n",
        "\n",
        "x_train_5t = sequence.pad_sequences(x_train_5t, maxlen=100)\n",
        "x_test_5t = sequence.pad_sequences(x_test_5t, maxlen=100)\n",
        "\n",
        "model_5t = Sequential()\n",
        "model_5t.add(Embedding(input_dim=10000, output_dim=128))\n",
        "model_5t.add(SimpleRNN(256, dropout=0.2, recurrent_dropout=0.2))\n",
        "model_5t.add(Dense(1, activation='sigmoid'))\n",
        "\n",
        "model_5t.summary()\n",
        "\n",
        "model_5t.compile(loss='binary_crossentropy',\n",
        "              optimizer='adam',\n",
        "              metrics=['accuracy'])\n",
        "\n",
        "model_5t.fit(x_train_5t, y_train_5t, batch_size=32, epochs=5,\n",
        "          validation_data=(x_test_5t, y_test_5t))"
      ],
      "execution_count": 26,
      "outputs": [
        {
          "output_type": "stream",
          "text": [
            "Model: \"sequential_12\"\n",
            "_________________________________________________________________\n",
            "Layer (type)                 Output Shape              Param #   \n",
            "=================================================================\n",
            "embedding_12 (Embedding)     (None, None, 128)         1280000   \n",
            "_________________________________________________________________\n",
            "simple_rnn_1 (SimpleRNN)     (None, 256)               98560     \n",
            "_________________________________________________________________\n",
            "dense_12 (Dense)             (None, 1)                 257       \n",
            "=================================================================\n",
            "Total params: 1,378,817\n",
            "Trainable params: 1,378,817\n",
            "Non-trainable params: 0\n",
            "_________________________________________________________________\n",
            "Epoch 1/5\n",
            "782/782 [==============================] - 100s 128ms/step - loss: 0.6994 - accuracy: 0.5249 - val_loss: 0.6793 - val_accuracy: 0.5532\n",
            "Epoch 2/5\n",
            "782/782 [==============================] - 99s 127ms/step - loss: 0.6587 - accuracy: 0.5887 - val_loss: 0.6421 - val_accuracy: 0.6209\n",
            "Epoch 3/5\n",
            "782/782 [==============================] - 99s 127ms/step - loss: 0.5773 - accuracy: 0.6878 - val_loss: 0.6797 - val_accuracy: 0.5878\n",
            "Epoch 4/5\n",
            "782/782 [==============================] - 99s 127ms/step - loss: 0.5340 - accuracy: 0.7288 - val_loss: 0.5784 - val_accuracy: 0.7113\n",
            "Epoch 5/5\n",
            "782/782 [==============================] - 99s 126ms/step - loss: 0.5119 - accuracy: 0.7452 - val_loss: 0.6120 - val_accuracy: 0.6566\n"
          ],
          "name": "stdout"
        },
        {
          "output_type": "execute_result",
          "data": {
            "text/plain": [
              "<tensorflow.python.keras.callbacks.History at 0x7fdf5006a6a0>"
            ]
          },
          "metadata": {
            "tags": []
          },
          "execution_count": 26
        }
      ]
    },
    {
      "cell_type": "code",
      "metadata": {
        "id": "8pGc56bu8NO8",
        "colab_type": "code",
        "colab": {
          "base_uri": "https://localhost:8080/",
          "height": 483
        },
        "outputId": "bab1c105-25b1-4e65-9055-47c6f9887d10"
      },
      "source": [
        "## GRU\n",
        "\n",
        "(x_train_5t, y_train_5t), (x_test_5t, y_test_5t) = imdb.load_data(num_words=10000)\n",
        "\n",
        "x_train_5t = sequence.pad_sequences(x_train_5t, maxlen=100)\n",
        "x_test_5t = sequence.pad_sequences(x_test_5t, maxlen=100)\n",
        "\n",
        "model_5t = Sequential()\n",
        "model_5t.add(Embedding(input_dim=10000, output_dim=128))\n",
        "model_5t.add(GRU(256, dropout=0.2, recurrent_dropout=0.2))\n",
        "model_5t.add(Dense(1, activation='sigmoid'))\n",
        "\n",
        "model_5t.summary()\n",
        "\n",
        "model_5t.compile(loss='binary_crossentropy',\n",
        "              optimizer='adam',\n",
        "              metrics=['accuracy'])\n",
        "\n",
        "model_5t.fit(x_train_5t, y_train_5t, batch_size=32, epochs=5,\n",
        "          validation_data=(x_test_5t, y_test_5t))"
      ],
      "execution_count": 25,
      "outputs": [
        {
          "output_type": "stream",
          "text": [
            "WARNING:tensorflow:Layer gru will not use cuDNN kernel since it doesn't meet the cuDNN kernel criteria. It will use generic GPU kernel as fallback when running on GPU\n",
            "Model: \"sequential_11\"\n",
            "_________________________________________________________________\n",
            "Layer (type)                 Output Shape              Param #   \n",
            "=================================================================\n",
            "embedding_11 (Embedding)     (None, None, 128)         1280000   \n",
            "_________________________________________________________________\n",
            "gru (GRU)                    (None, 256)               296448    \n",
            "_________________________________________________________________\n",
            "dense_11 (Dense)             (None, 1)                 257       \n",
            "=================================================================\n",
            "Total params: 1,576,705\n",
            "Trainable params: 1,576,705\n",
            "Non-trainable params: 0\n",
            "_________________________________________________________________\n",
            "Epoch 1/5\n",
            "782/782 [==============================] - 262s 335ms/step - loss: 0.4541 - accuracy: 0.7788 - val_loss: 0.3397 - val_accuracy: 0.8524\n",
            "Epoch 2/5\n",
            "782/782 [==============================] - 262s 335ms/step - loss: 0.2606 - accuracy: 0.8936 - val_loss: 0.3462 - val_accuracy: 0.8606\n",
            "Epoch 3/5\n",
            "782/782 [==============================] - 262s 335ms/step - loss: 0.1664 - accuracy: 0.9393 - val_loss: 0.4211 - val_accuracy: 0.8515\n",
            "Epoch 4/5\n",
            "782/782 [==============================] - 262s 336ms/step - loss: 0.1038 - accuracy: 0.9625 - val_loss: 0.4786 - val_accuracy: 0.8461\n",
            "Epoch 5/5\n",
            "782/782 [==============================] - 266s 340ms/step - loss: 0.0658 - accuracy: 0.9772 - val_loss: 0.5441 - val_accuracy: 0.8384\n"
          ],
          "name": "stdout"
        },
        {
          "output_type": "execute_result",
          "data": {
            "text/plain": [
              "<tensorflow.python.keras.callbacks.History at 0x7fdeb9fa5f28>"
            ]
          },
          "metadata": {
            "tags": []
          },
          "execution_count": 25
        }
      ]
    },
    {
      "cell_type": "code",
      "metadata": {
        "id": "JFJaW46M8UwR",
        "colab_type": "code",
        "colab": {}
      },
      "source": [
        ""
      ],
      "execution_count": 0,
      "outputs": []
    }
  ]
}