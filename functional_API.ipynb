{
  "nbformat": 4,
  "nbformat_minor": 0,
  "metadata": {
    "colab": {
      "name": "functional_API.ipynb",
      "provenance": []
    },
    "kernelspec": {
      "name": "python3",
      "display_name": "Python 3"
    },
    "accelerator": "GPU"
  },
  "cells": [
    {
      "cell_type": "code",
      "metadata": {
        "id": "tKZzgDE1BLFd",
        "colab_type": "code",
        "colab": {}
      },
      "source": [
        "%tensorflow_version 2.x"
      ],
      "execution_count": 0,
      "outputs": []
    },
    {
      "cell_type": "code",
      "metadata": {
        "id": "vI8EE80gBVb-",
        "colab_type": "code",
        "colab": {}
      },
      "source": [
        "# Import some useful packages\n",
        "import matplotlib.pyplot as plt\n",
        "import numpy as np\n",
        "\n",
        "# Layers for FNN\n",
        "from tensorflow.keras.models import Sequential\n",
        "from tensorflow.keras.layers import Dense\n",
        "from tensorflow.keras.layers import Flatten\n",
        "\n",
        "# Layers for CNN\n",
        "from tensorflow.keras.layers import Conv2D, MaxPool2D, GlobalAveragePooling2D\n",
        "\n",
        "from tensorflow.keras.optimizers import SGD, Adam\n",
        "\n",
        "# For data preprocessing\n",
        "from tensorflow.keras import datasets\n",
        "from tensorflow.keras.utils import to_categorical"
      ],
      "execution_count": 0,
      "outputs": []
    },
    {
      "cell_type": "code",
      "metadata": {
        "id": "opiHEbsVBcie",
        "colab_type": "code",
        "colab": {
          "base_uri": "https://localhost:8080/",
          "height": 154
        },
        "outputId": "6561b6a0-a415-41f3-bb47-e8e48eba7918"
      },
      "source": [
        "# Load Fashine MNIST\n",
        "(X_train, y_train0), (X_test, y_test0) = datasets.fashion_mnist.load_data()\n",
        "\n",
        "# Reshape size\n",
        "X_train = X_train.reshape(-1, 28*28)\n",
        "X_test = X_test.reshape(-1, 28*28)\n",
        "\n",
        "X_train = X_train.reshape(60000, 28, 28, 1)\n",
        "X_test = X_test.reshape(10000, 28, 28, 1)\n",
        "\n",
        "# Normalize the range of featurs\n",
        "X_train = X_train / X_train.max()\n",
        "X_test = X_test / X_test.max()\n",
        "\n",
        "# One-hot encoding\n",
        "y_train = to_categorical(y_train0, 10)\n",
        "y_test = to_categorical(y_test0, 10)"
      ],
      "execution_count": 4,
      "outputs": [
        {
          "output_type": "stream",
          "text": [
            "Downloading data from https://storage.googleapis.com/tensorflow/tf-keras-datasets/train-labels-idx1-ubyte.gz\n",
            "32768/29515 [=================================] - 0s 0us/step\n",
            "Downloading data from https://storage.googleapis.com/tensorflow/tf-keras-datasets/train-images-idx3-ubyte.gz\n",
            "26427392/26421880 [==============================] - 0s 0us/step\n",
            "Downloading data from https://storage.googleapis.com/tensorflow/tf-keras-datasets/t10k-labels-idx1-ubyte.gz\n",
            "8192/5148 [===============================================] - 0s 0us/step\n",
            "Downloading data from https://storage.googleapis.com/tensorflow/tf-keras-datasets/t10k-images-idx3-ubyte.gz\n",
            "4423680/4422102 [==============================] - 0s 0us/step\n"
          ],
          "name": "stdout"
        }
      ]
    },
    {
      "cell_type": "code",
      "metadata": {
        "id": "0SOKiDEjBipf",
        "colab_type": "code",
        "colab": {}
      },
      "source": [
        "from tensorflow.keras.models import Model\n",
        "from tensorflow.keras.layers import Input\n",
        "from tensorflow.keras.layers import concatenate, add    # 為了分歧"
      ],
      "execution_count": 0,
      "outputs": []
    },
    {
      "cell_type": "code",
      "metadata": {
        "id": "S5b4sLiABlTi",
        "colab_type": "code",
        "colab": {}
      },
      "source": [
        "x = Input(shape=(28,28,1))\n",
        "\n",
        "cnn_1_1 = Conv2D(32, (3, 3), padding='same', activation='relu')\n",
        "max_pool_1_1 = MaxPool2D()\n",
        "cnn_1_2 = Conv2D(32, (3, 3), padding='same', activation='relu')\n",
        "max_pool_1_2 = MaxPool2D()\n",
        "\n",
        "\n",
        "cnn_2 = Conv2D(64, (3, 3), padding='same', activation='relu')\n",
        "max_pool_2 = MaxPool2D()\n",
        "cnn_3 = Conv2D(128, (3, 3), padding='same', activation='relu')\n",
        "max_pool_3 = MaxPool2D()\n",
        "gap = GlobalAveragePooling2D()\n",
        "dense = Dense(10, activation='softmax')"
      ],
      "execution_count": 0,
      "outputs": []
    },
    {
      "cell_type": "code",
      "metadata": {
        "id": "8uA8VcW5CkBe",
        "colab_type": "code",
        "colab": {}
      },
      "source": [
        "# funcitonal API 方式連接\n",
        "\n",
        "# 分歧點\n",
        "f1_1 = max_pool_1_1(cnn_1_1(x))\n",
        "f1_2 = max_pool_1_2(cnn_1_2(x))\n",
        "\n",
        "# 合併\n",
        "z = concatenate([f1_1, f1_2])\n",
        "\n",
        "f2 = max_pool_2(cnn_2(z))\n",
        "f3 = max_pool_3(cnn_3(f2))\n",
        "f4 = gap(f3)\n",
        "y = dense(f4)"
      ],
      "execution_count": 0,
      "outputs": []
    },
    {
      "cell_type": "code",
      "metadata": {
        "id": "vfK-PwsBC9Vk",
        "colab_type": "code",
        "colab": {}
      },
      "source": [
        "# model 化\n",
        "\n",
        "model_functional = Model(x, y)"
      ],
      "execution_count": 0,
      "outputs": []
    },
    {
      "cell_type": "code",
      "metadata": {
        "id": "1ykCWk2nDhLs",
        "colab_type": "code",
        "outputId": "98ddb319-02ac-4b46-c111-79a288577e80",
        "colab": {
          "base_uri": "https://localhost:8080/",
          "height": 583
        }
      },
      "source": [
        "model_functional.summary()"
      ],
      "execution_count": 9,
      "outputs": [
        {
          "output_type": "stream",
          "text": [
            "Model: \"model\"\n",
            "__________________________________________________________________________________________________\n",
            "Layer (type)                    Output Shape         Param #     Connected to                     \n",
            "==================================================================================================\n",
            "input_1 (InputLayer)            [(None, 28, 28, 1)]  0                                            \n",
            "__________________________________________________________________________________________________\n",
            "conv2d (Conv2D)                 (None, 28, 28, 32)   320         input_1[0][0]                    \n",
            "__________________________________________________________________________________________________\n",
            "conv2d_1 (Conv2D)               (None, 28, 28, 32)   320         input_1[0][0]                    \n",
            "__________________________________________________________________________________________________\n",
            "max_pooling2d (MaxPooling2D)    (None, 14, 14, 32)   0           conv2d[0][0]                     \n",
            "__________________________________________________________________________________________________\n",
            "max_pooling2d_1 (MaxPooling2D)  (None, 14, 14, 32)   0           conv2d_1[0][0]                   \n",
            "__________________________________________________________________________________________________\n",
            "concatenate (Concatenate)       (None, 14, 14, 64)   0           max_pooling2d[0][0]              \n",
            "                                                                 max_pooling2d_1[0][0]            \n",
            "__________________________________________________________________________________________________\n",
            "conv2d_2 (Conv2D)               (None, 14, 14, 64)   36928       concatenate[0][0]                \n",
            "__________________________________________________________________________________________________\n",
            "max_pooling2d_2 (MaxPooling2D)  (None, 7, 7, 64)     0           conv2d_2[0][0]                   \n",
            "__________________________________________________________________________________________________\n",
            "conv2d_3 (Conv2D)               (None, 7, 7, 128)    73856       max_pooling2d_2[0][0]            \n",
            "__________________________________________________________________________________________________\n",
            "max_pooling2d_3 (MaxPooling2D)  (None, 3, 3, 128)    0           conv2d_3[0][0]                   \n",
            "__________________________________________________________________________________________________\n",
            "global_average_pooling2d (Globa (None, 128)          0           max_pooling2d_3[0][0]            \n",
            "__________________________________________________________________________________________________\n",
            "dense (Dense)                   (None, 10)           1290        global_average_pooling2d[0][0]   \n",
            "==================================================================================================\n",
            "Total params: 112,714\n",
            "Trainable params: 112,714\n",
            "Non-trainable params: 0\n",
            "__________________________________________________________________________________________________\n"
          ],
          "name": "stdout"
        }
      ]
    },
    {
      "cell_type": "code",
      "metadata": {
        "id": "avHaLQ71DiyO",
        "colab_type": "code",
        "colab": {}
      },
      "source": [
        "model_functional.compile(loss='mse', \n",
        "              optimizer=Adam(), \n",
        "              metrics=['accuracy'])"
      ],
      "execution_count": 0,
      "outputs": []
    },
    {
      "cell_type": "code",
      "metadata": {
        "id": "1XZPRPYoDm2W",
        "colab_type": "code",
        "outputId": "0ac0eef0-1b5f-4408-9e4c-8cb32684037d",
        "colab": {
          "base_uri": "https://localhost:8080/",
          "height": 206
        }
      },
      "source": [
        "model_functional.fit(X_train, y_train, \n",
        "          batch_size=256, \n",
        "          epochs=5)"
      ],
      "execution_count": 11,
      "outputs": [
        {
          "output_type": "stream",
          "text": [
            "Epoch 1/5\n",
            "235/235 [==============================] - 6s 24ms/step - loss: 0.0439 - accuracy: 0.6752\n",
            "Epoch 2/5\n",
            "235/235 [==============================] - 5s 23ms/step - loss: 0.0268 - accuracy: 0.8115\n",
            "Epoch 3/5\n",
            "235/235 [==============================] - 5s 23ms/step - loss: 0.0229 - accuracy: 0.8427\n",
            "Epoch 4/5\n",
            "235/235 [==============================] - 5s 23ms/step - loss: 0.0209 - accuracy: 0.8562\n",
            "Epoch 5/5\n",
            "235/235 [==============================] - 5s 23ms/step - loss: 0.0195 - accuracy: 0.8666\n"
          ],
          "name": "stdout"
        },
        {
          "output_type": "execute_result",
          "data": {
            "text/plain": [
              "<tensorflow.python.keras.callbacks.History at 0x7f23302d4c88>"
            ]
          },
          "metadata": {
            "tags": []
          },
          "execution_count": 11
        }
      ]
    },
    {
      "cell_type": "code",
      "metadata": {
        "id": "vH2UK9E3Dvfx",
        "colab_type": "code",
        "outputId": "80af2473-72cd-4239-9a84-9cffc41091e2",
        "colab": {
          "base_uri": "https://localhost:8080/",
          "height": 68
        }
      },
      "source": [
        "score = model_functional.evaluate(X_test, y_test, batch_size=10000)\n",
        "print(f'Loss: {score[0]}')\n",
        "print(f'準確率: {score[1]*100}')"
      ],
      "execution_count": 12,
      "outputs": [
        {
          "output_type": "stream",
          "text": [
            "1/1 [==============================] - 0s 2ms/step - loss: 0.0198 - accuracy: 0.8641\n",
            "Loss: 0.019790399819612503\n",
            "準確率: 86.40999794006348\n"
          ],
          "name": "stdout"
        }
      ]
    },
    {
      "cell_type": "code",
      "metadata": {
        "id": "mkA5wBYIFDTb",
        "colab_type": "code",
        "colab": {}
      },
      "source": [
        ""
      ],
      "execution_count": 0,
      "outputs": []
    }
  ]
}