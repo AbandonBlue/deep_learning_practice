{
  "nbformat": 4,
  "nbformat_minor": 0,
  "metadata": {
    "colab": {
      "name": "functional API.ipynb",
      "provenance": []
    },
    "kernelspec": {
      "name": "python3",
      "display_name": "Python 3"
    },
    "accelerator": "GPU"
  },
  "cells": [
    {
      "cell_type": "code",
      "metadata": {
        "id": "tKZzgDE1BLFd",
        "colab_type": "code",
        "colab": {}
      },
      "source": [
        "%tensorflow_version 2.x"
      ],
      "execution_count": 0,
      "outputs": []
    },
    {
      "cell_type": "code",
      "metadata": {
        "id": "vI8EE80gBVb-",
        "colab_type": "code",
        "colab": {}
      },
      "source": [
        "# Import some useful packages\n",
        "import matplotlib.pyplot as plt\n",
        "import numpy as np\n",
        "\n",
        "# Layers for FNN\n",
        "from tensorflow.keras.models import Sequential\n",
        "from tensorflow.keras.layers import Dense\n",
        "from tensorflow.keras.layers import Flatten\n",
        "\n",
        "# Layers for CNN\n",
        "from tensorflow.keras.layers import Conv2D, MaxPool2D, GlobalAveragePooling2D\n",
        "\n",
        "from tensorflow.keras.optimizers import SGD, Adam\n",
        "\n",
        "# For data preprocessing\n",
        "from tensorflow.keras import datasets\n",
        "from tensorflow.keras.utils import to_categorical"
      ],
      "execution_count": 0,
      "outputs": []
    },
    {
      "cell_type": "code",
      "metadata": {
        "id": "opiHEbsVBcie",
        "colab_type": "code",
        "colab": {}
      },
      "source": [
        "# Load Fashine MNIST\n",
        "(X_train, y_train0), (X_test, y_test0) = datasets.fashion_mnist.load_data()\n",
        "\n",
        "# Reshape size\n",
        "X_train = X_train.reshape(-1, 28*28)\n",
        "X_test = X_test.reshape(-1, 28*28)\n",
        "\n",
        "X_train = X_train.reshape(60000, 28, 28, 1)\n",
        "X_test = X_test.reshape(10000, 28, 28, 1)\n",
        "\n",
        "# Normalize the range of featurs\n",
        "X_train = X_train / X_train.max()\n",
        "X_test = X_test / X_test.max()\n",
        "\n",
        "# One-hot encoding\n",
        "y_train = to_categorical(y_train0, 10)\n",
        "y_test = to_categorical(y_test0, 10)"
      ],
      "execution_count": 0,
      "outputs": []
    },
    {
      "cell_type": "code",
      "metadata": {
        "id": "0SOKiDEjBipf",
        "colab_type": "code",
        "colab": {}
      },
      "source": [
        "from tensorflow.keras.models import Model\n",
        "from tensorflow.keras.layers import Input"
      ],
      "execution_count": 0,
      "outputs": []
    },
    {
      "cell_type": "code",
      "metadata": {
        "id": "S5b4sLiABlTi",
        "colab_type": "code",
        "colab": {}
      },
      "source": [
        "x = Input(shape=(28,28,1))\n",
        "\n",
        "cnn_1 = Conv2D(32, (3, 3), padding='same', activation='relu')\n",
        "max_pool_1 = MaxPool2D()\n",
        "cnn_2 = Conv2D(64, (3, 3), padding='same', activation='relu')\n",
        "max_pool_2 = MaxPool2D()\n",
        "cnn_3 = Conv2D(128, (3, 3), padding='same', activation='relu')\n",
        "max_pool_3 = MaxPool2D()\n",
        "gap = GlobalAveragePooling2D()\n",
        "dense = Dense(10, activation='softmax')"
      ],
      "execution_count": 0,
      "outputs": []
    },
    {
      "cell_type": "code",
      "metadata": {
        "id": "8uA8VcW5CkBe",
        "colab_type": "code",
        "colab": {}
      },
      "source": [
        "# funcitonal API 方式連接\n",
        "\n",
        "f1 = max_pool_1(cnn_1(x))\n",
        "f2 = max_pool_2(cnn_2(f1))\n",
        "f3 = max_pool_3(cnn_3(f2))\n",
        "f4 = gap(f3)\n",
        "y = dense(f4)"
      ],
      "execution_count": 0,
      "outputs": []
    },
    {
      "cell_type": "code",
      "metadata": {
        "id": "vfK-PwsBC9Vk",
        "colab_type": "code",
        "colab": {}
      },
      "source": [
        "# model 化\n",
        "\n",
        "model_functional = Model(x, y)"
      ],
      "execution_count": 0,
      "outputs": []
    },
    {
      "cell_type": "code",
      "metadata": {
        "id": "1ykCWk2nDhLs",
        "colab_type": "code",
        "colab": {
          "base_uri": "https://localhost:8080/",
          "height": 463
        },
        "outputId": "8ef01513-33ef-4552-eeaa-3b92912ce7d0"
      },
      "source": [
        "model_functional.summary()"
      ],
      "execution_count": 8,
      "outputs": [
        {
          "output_type": "stream",
          "text": [
            "Model: \"model\"\n",
            "_________________________________________________________________\n",
            "Layer (type)                 Output Shape              Param #   \n",
            "=================================================================\n",
            "input_1 (InputLayer)         [(None, 28, 28, 1)]       0         \n",
            "_________________________________________________________________\n",
            "conv2d (Conv2D)              (None, 28, 28, 32)        320       \n",
            "_________________________________________________________________\n",
            "max_pooling2d (MaxPooling2D) (None, 14, 14, 32)        0         \n",
            "_________________________________________________________________\n",
            "conv2d_1 (Conv2D)            (None, 14, 14, 64)        18496     \n",
            "_________________________________________________________________\n",
            "max_pooling2d_1 (MaxPooling2 (None, 7, 7, 64)          0         \n",
            "_________________________________________________________________\n",
            "conv2d_2 (Conv2D)            (None, 7, 7, 128)         73856     \n",
            "_________________________________________________________________\n",
            "max_pooling2d_2 (MaxPooling2 (None, 3, 3, 128)         0         \n",
            "_________________________________________________________________\n",
            "global_average_pooling2d (Gl (None, 128)               0         \n",
            "_________________________________________________________________\n",
            "dense (Dense)                (None, 10)                1290      \n",
            "=================================================================\n",
            "Total params: 93,962\n",
            "Trainable params: 93,962\n",
            "Non-trainable params: 0\n",
            "_________________________________________________________________\n"
          ],
          "name": "stdout"
        }
      ]
    },
    {
      "cell_type": "code",
      "metadata": {
        "id": "avHaLQ71DiyO",
        "colab_type": "code",
        "colab": {}
      },
      "source": [
        "model_functional.compile(loss='mse', \n",
        "              optimizer=Adam(), \n",
        "              metrics=['accuracy'])"
      ],
      "execution_count": 0,
      "outputs": []
    },
    {
      "cell_type": "code",
      "metadata": {
        "id": "1XZPRPYoDm2W",
        "colab_type": "code",
        "colab": {
          "base_uri": "https://localhost:8080/",
          "height": 206
        },
        "outputId": "bde2a0b7-04b9-4b3c-ff09-4dfe5c8b2ea0"
      },
      "source": [
        "model_functional.fit(X_train, y_train, \n",
        "          batch_size=256, \n",
        "          epochs=5)"
      ],
      "execution_count": 10,
      "outputs": [
        {
          "output_type": "stream",
          "text": [
            "Epoch 1/5\n",
            "235/235 [==============================] - 2s 9ms/step - loss: 0.0451 - accuracy: 0.6605\n",
            "Epoch 2/5\n",
            "235/235 [==============================] - 2s 9ms/step - loss: 0.0286 - accuracy: 0.7988\n",
            "Epoch 3/5\n",
            "235/235 [==============================] - 2s 9ms/step - loss: 0.0243 - accuracy: 0.8332\n",
            "Epoch 4/5\n",
            "235/235 [==============================] - 2s 9ms/step - loss: 0.0221 - accuracy: 0.8489\n",
            "Epoch 5/5\n",
            "235/235 [==============================] - 2s 9ms/step - loss: 0.0206 - accuracy: 0.8586\n"
          ],
          "name": "stdout"
        },
        {
          "output_type": "execute_result",
          "data": {
            "text/plain": [
              "<tensorflow.python.keras.callbacks.History at 0x7f2c503687b8>"
            ]
          },
          "metadata": {
            "tags": []
          },
          "execution_count": 10
        }
      ]
    },
    {
      "cell_type": "code",
      "metadata": {
        "id": "vH2UK9E3Dvfx",
        "colab_type": "code",
        "colab": {
          "base_uri": "https://localhost:8080/",
          "height": 68
        },
        "outputId": "887312e2-3228-4bca-cc22-1bf023a0279c"
      },
      "source": [
        "score = model_functional.evaluate(X_test, y_test, batch_size=10000)\n",
        "print(f'Loss: {score[0]}')\n",
        "print(f'準確率: {score[1]*100}')"
      ],
      "execution_count": 12,
      "outputs": [
        {
          "output_type": "stream",
          "text": [
            "1/1 [==============================] - 0s 971us/step - loss: 0.0223 - accuracy: 0.8425\n",
            "Loss: 0.02225550264120102\n",
            "準確率: 84.24999713897705\n"
          ],
          "name": "stdout"
        }
      ]
    },
    {
      "cell_type": "code",
      "metadata": {
        "id": "mkA5wBYIFDTb",
        "colab_type": "code",
        "colab": {}
      },
      "source": [
        ""
      ],
      "execution_count": 0,
      "outputs": []
    }
  ]
}