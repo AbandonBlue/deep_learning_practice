{
  "nbformat": 4,
  "nbformat_minor": 0,
  "metadata": {
    "accelerator": "GPU",
    "colab": {
      "name": "transfering_learning.ipynb",
      "provenance": []
    },
    "kernelspec": {
      "display_name": "Python 3",
      "language": "python",
      "name": "python3"
    },
    "language_info": {
      "codemirror_mode": {
        "name": "ipython",
        "version": 3
      },
      "file_extension": ".py",
      "mimetype": "text/x-python",
      "name": "python",
      "nbconvert_exporter": "python",
      "pygments_lexer": "ipython3",
      "version": "3.7.3"
    }
  },
  "cells": [
    {
      "cell_type": "code",
      "metadata": {
        "id": "4J9b0ABOWtLz",
        "colab_type": "code",
        "colab": {}
      },
      "source": [
        "# Import some useful packages\n",
        "import matplotlib.pyplot as plt\n",
        "import numpy as np\n",
        "\n",
        "# Layers for FNN\n",
        "from tensorflow.keras.models import Sequential\n",
        "from tensorflow.keras.layers import Dense\n",
        "from tensorflow.keras.layers import Flatten\n",
        "\n",
        "# Layers for CNN\n",
        "from tensorflow.keras.layers import Conv2D, MaxPool2D, GlobalAveragePooling2D\n",
        "\n",
        "from tensorflow.keras.optimizers import SGD, Adam\n",
        "\n",
        "# For data preprocessing\n",
        "from tensorflow.keras import datasets\n",
        "from tensorflow.keras.utils import to_categorical"
      ],
      "execution_count": 0,
      "outputs": []
    },
    {
      "cell_type": "code",
      "metadata": {
        "id": "O59Ff6rmWvzq",
        "colab_type": "code",
        "colab": {}
      },
      "source": [
        "# Load CIFAR 100\n",
        "(X_train, y_train0), (X_test, y_test0) = datasets.cifar100.load_data()\n",
        "\n",
        "# Normalize the range of featurs\n",
        "X_train = X_train / X_train.max()\n",
        "X_test = X_test / X_test.max()\n",
        "\n",
        "# One-hot encoding\n",
        "y_train = to_categorical(y_train0, 100)\n",
        "y_test = to_categorical(y_test0, 100)"
      ],
      "execution_count": 0,
      "outputs": []
    },
    {
      "cell_type": "code",
      "metadata": {
        "id": "wMztQVW2W4lN",
        "colab_type": "code",
        "colab": {}
      },
      "source": [
        "CNN_layers = [Conv2D(32, (3, 3), input_shape=(32, 32, 3), padding='same', activation='relu', name='Conv_1'),\n",
        "              MaxPool2D(),\n",
        "              Conv2D(128, (3, 3), padding='same', activation='relu', name='Conv_2'),\n",
        "              MaxPool2D(),\n",
        "              Conv2D(256, (3, 3), padding='same', activation='relu', name='Conv_3'),\n",
        "              MaxPool2D(),\n",
        "              Conv2D(512, (3, 3), padding='same', activation='relu', name='Conv_4'),\n",
        "              GlobalAveragePooling2D()]\n",
        "\n",
        "FC_layers = [Dense(units=256, activation='relu'),\n",
        "             Dense(units=100, activation='softmax')]"
      ],
      "execution_count": 0,
      "outputs": []
    },
    {
      "cell_type": "code",
      "metadata": {
        "id": "fNhdKhPdW7FI",
        "colab_type": "code",
        "colab": {
          "base_uri": "https://localhost:8080/",
          "height": 497
        },
        "outputId": "76954de5-9f41-4842-e271-dcc4c5776c25"
      },
      "source": [
        "model = Sequential(CNN_layers + FC_layers)\n",
        "model.summary()"
      ],
      "execution_count": 39,
      "outputs": [
        {
          "output_type": "stream",
          "text": [
            "Model: \"sequential_2\"\n",
            "_________________________________________________________________\n",
            "Layer (type)                 Output Shape              Param #   \n",
            "=================================================================\n",
            "Conv_1 (Conv2D)              (None, 32, 32, 32)        896       \n",
            "_________________________________________________________________\n",
            "max_pooling2d_4 (MaxPooling2 (None, 16, 16, 32)        0         \n",
            "_________________________________________________________________\n",
            "Conv_2 (Conv2D)              (None, 16, 16, 128)       36992     \n",
            "_________________________________________________________________\n",
            "max_pooling2d_5 (MaxPooling2 (None, 8, 8, 128)         0         \n",
            "_________________________________________________________________\n",
            "Conv_3 (Conv2D)              (None, 8, 8, 256)         295168    \n",
            "_________________________________________________________________\n",
            "max_pooling2d_6 (MaxPooling2 (None, 4, 4, 256)         0         \n",
            "_________________________________________________________________\n",
            "Conv_4 (Conv2D)              (None, 4, 4, 512)         1180160   \n",
            "_________________________________________________________________\n",
            "global_average_pooling2d_2 ( (None, 512)               0         \n",
            "_________________________________________________________________\n",
            "dense_4 (Dense)              (None, 256)               131328    \n",
            "_________________________________________________________________\n",
            "dense_5 (Dense)              (None, 100)               25700     \n",
            "=================================================================\n",
            "Total params: 1,670,244\n",
            "Trainable params: 1,670,244\n",
            "Non-trainable params: 0\n",
            "_________________________________________________________________\n"
          ],
          "name": "stdout"
        }
      ]
    },
    {
      "cell_type": "code",
      "metadata": {
        "id": "A3H8hQYhXKRq",
        "colab_type": "code",
        "colab": {}
      },
      "source": [
        "model.compile(loss='categorical_crossentropy', \n",
        "                optimizer=Adam(),\n",
        "                metrics=['categorical_accuracy'])"
      ],
      "execution_count": 0,
      "outputs": []
    },
    {
      "cell_type": "code",
      "metadata": {
        "id": "DoaVD-lmXO_z",
        "colab_type": "code",
        "colab": {
          "base_uri": "https://localhost:8080/",
          "height": 397
        },
        "outputId": "fa598c81-5d26-4fb9-c5e8-5bcf6c86b953"
      },
      "source": [
        "model.fit(X_train, y_train, \n",
        "          batch_size=128, \n",
        "          epochs=10,\n",
        "          validation_data=(X_test, y_test)\n",
        "          )"
      ],
      "execution_count": 41,
      "outputs": [
        {
          "output_type": "stream",
          "text": [
            "Epoch 1/10\n",
            "391/391 [==============================] - 11s 28ms/step - loss: 4.1430 - categorical_accuracy: 0.0571 - val_loss: 3.7571 - val_categorical_accuracy: 0.1115\n",
            "Epoch 2/10\n",
            "391/391 [==============================] - 11s 27ms/step - loss: 3.4578 - categorical_accuracy: 0.1647 - val_loss: 3.1954 - val_categorical_accuracy: 0.2112\n",
            "Epoch 3/10\n",
            "391/391 [==============================] - 11s 27ms/step - loss: 3.0370 - categorical_accuracy: 0.2443 - val_loss: 2.9609 - val_categorical_accuracy: 0.2648\n",
            "Epoch 4/10\n",
            "391/391 [==============================] - 11s 27ms/step - loss: 2.7555 - categorical_accuracy: 0.2976 - val_loss: 2.6776 - val_categorical_accuracy: 0.3219\n",
            "Epoch 5/10\n",
            "391/391 [==============================] - 11s 28ms/step - loss: 2.5296 - categorical_accuracy: 0.3430 - val_loss: 2.5257 - val_categorical_accuracy: 0.3509\n",
            "Epoch 6/10\n",
            "391/391 [==============================] - 11s 27ms/step - loss: 2.3372 - categorical_accuracy: 0.3866 - val_loss: 2.4187 - val_categorical_accuracy: 0.3709\n",
            "Epoch 7/10\n",
            "391/391 [==============================] - 11s 27ms/step - loss: 2.1763 - categorical_accuracy: 0.4203 - val_loss: 2.3174 - val_categorical_accuracy: 0.3978\n",
            "Epoch 8/10\n",
            "391/391 [==============================] - 11s 27ms/step - loss: 2.0404 - categorical_accuracy: 0.4497 - val_loss: 2.2850 - val_categorical_accuracy: 0.4109\n",
            "Epoch 9/10\n",
            "391/391 [==============================] - 11s 28ms/step - loss: 1.9103 - categorical_accuracy: 0.4800 - val_loss: 2.2107 - val_categorical_accuracy: 0.4210\n",
            "Epoch 10/10\n",
            "391/391 [==============================] - 11s 27ms/step - loss: 1.7960 - categorical_accuracy: 0.5049 - val_loss: 2.1412 - val_categorical_accuracy: 0.4359\n"
          ],
          "name": "stdout"
        },
        {
          "output_type": "execute_result",
          "data": {
            "text/plain": [
              "<tensorflow.python.keras.callbacks.History at 0x7f226f2db358>"
            ]
          },
          "metadata": {
            "tags": []
          },
          "execution_count": 41
        }
      ]
    },
    {
      "cell_type": "code",
      "metadata": {
        "id": "F-R9nThKXTzm",
        "colab_type": "code",
        "colab": {}
      },
      "source": [
        "# Load CIFAR 10\n",
        "(X_train, y_train0), (X_test, y_test0) = datasets.cifar10.load_data()\n",
        "\n",
        "# Normalize the range of featurs\n",
        "X_train = X_train / X_train.max()\n",
        "X_test = X_test / X_test.max()\n",
        "\n",
        "# One-hot encoding\n",
        "y_train = to_categorical(y_train0, 10)\n",
        "y_test = to_categorical(y_test0, 10)"
      ],
      "execution_count": 0,
      "outputs": []
    },
    {
      "cell_type": "code",
      "metadata": {
        "id": "oMHzKKM9YKR1",
        "colab_type": "code",
        "colab": {}
      },
      "source": [
        "# CNN用借的, 其它自己建造\n",
        "\n",
        "FC_layers_CF10 = [Dense(units=512, activation='relu'),\n",
        "                   Dense(units=10, activation='softmax')]"
      ],
      "execution_count": 0,
      "outputs": []
    },
    {
      "cell_type": "code",
      "metadata": {
        "id": "zNtGvj1HYa9X",
        "colab_type": "code",
        "colab": {
          "base_uri": "https://localhost:8080/",
          "height": 497
        },
        "outputId": "88561ea6-c434-4542-8374-166ab582a5a2"
      },
      "source": [
        "model_CF10 = Sequential(CNN_layers+FC_layers_CF10)\n",
        "model_CF10.summary()"
      ],
      "execution_count": 44,
      "outputs": [
        {
          "output_type": "stream",
          "text": [
            "Model: \"sequential_3\"\n",
            "_________________________________________________________________\n",
            "Layer (type)                 Output Shape              Param #   \n",
            "=================================================================\n",
            "Conv_1 (Conv2D)              (None, 32, 32, 32)        896       \n",
            "_________________________________________________________________\n",
            "max_pooling2d_4 (MaxPooling2 (None, 16, 16, 32)        0         \n",
            "_________________________________________________________________\n",
            "Conv_2 (Conv2D)              (None, 16, 16, 128)       36992     \n",
            "_________________________________________________________________\n",
            "max_pooling2d_5 (MaxPooling2 (None, 8, 8, 128)         0         \n",
            "_________________________________________________________________\n",
            "Conv_3 (Conv2D)              (None, 8, 8, 256)         295168    \n",
            "_________________________________________________________________\n",
            "max_pooling2d_6 (MaxPooling2 (None, 4, 4, 256)         0         \n",
            "_________________________________________________________________\n",
            "Conv_4 (Conv2D)              (None, 4, 4, 512)         1180160   \n",
            "_________________________________________________________________\n",
            "global_average_pooling2d_2 ( (None, 512)               0         \n",
            "_________________________________________________________________\n",
            "dense_6 (Dense)              (None, 512)               262656    \n",
            "_________________________________________________________________\n",
            "dense_7 (Dense)              (None, 10)                5130      \n",
            "=================================================================\n",
            "Total params: 1,781,002\n",
            "Trainable params: 1,781,002\n",
            "Non-trainable params: 0\n",
            "_________________________________________________________________\n"
          ],
          "name": "stdout"
        }
      ]
    },
    {
      "cell_type": "code",
      "metadata": {
        "id": "ZzY9A8fUYi5r",
        "colab_type": "code",
        "colab": {}
      },
      "source": [
        "# froze\n",
        "\n",
        "for layer in CNN_layers:\n",
        "    layer.trainable = False"
      ],
      "execution_count": 0,
      "outputs": []
    },
    {
      "cell_type": "code",
      "metadata": {
        "id": "9LlB1uFJYoyN",
        "colab_type": "code",
        "colab": {
          "base_uri": "https://localhost:8080/",
          "height": 497
        },
        "outputId": "4840a4c7-d057-4460-f20a-0aa98a5e0fd1"
      },
      "source": [
        "model_CF10.summary()"
      ],
      "execution_count": 46,
      "outputs": [
        {
          "output_type": "stream",
          "text": [
            "Model: \"sequential_3\"\n",
            "_________________________________________________________________\n",
            "Layer (type)                 Output Shape              Param #   \n",
            "=================================================================\n",
            "Conv_1 (Conv2D)              (None, 32, 32, 32)        896       \n",
            "_________________________________________________________________\n",
            "max_pooling2d_4 (MaxPooling2 (None, 16, 16, 32)        0         \n",
            "_________________________________________________________________\n",
            "Conv_2 (Conv2D)              (None, 16, 16, 128)       36992     \n",
            "_________________________________________________________________\n",
            "max_pooling2d_5 (MaxPooling2 (None, 8, 8, 128)         0         \n",
            "_________________________________________________________________\n",
            "Conv_3 (Conv2D)              (None, 8, 8, 256)         295168    \n",
            "_________________________________________________________________\n",
            "max_pooling2d_6 (MaxPooling2 (None, 4, 4, 256)         0         \n",
            "_________________________________________________________________\n",
            "Conv_4 (Conv2D)              (None, 4, 4, 512)         1180160   \n",
            "_________________________________________________________________\n",
            "global_average_pooling2d_2 ( (None, 512)               0         \n",
            "_________________________________________________________________\n",
            "dense_6 (Dense)              (None, 512)               262656    \n",
            "_________________________________________________________________\n",
            "dense_7 (Dense)              (None, 10)                5130      \n",
            "=================================================================\n",
            "Total params: 1,781,002\n",
            "Trainable params: 267,786\n",
            "Non-trainable params: 1,513,216\n",
            "_________________________________________________________________\n"
          ],
          "name": "stdout"
        }
      ]
    },
    {
      "cell_type": "code",
      "metadata": {
        "id": "xGSd9HfOYrMx",
        "colab_type": "code",
        "colab": {
          "base_uri": "https://localhost:8080/",
          "height": 226
        },
        "outputId": "0a3c1024-dacd-405a-b808-74baff5e4a0c"
      },
      "source": [
        "model_CF10.compile(loss='categorical_crossentropy', \n",
        "                    optimizer=Adam(),\n",
        "                    metrics=['categorical_accuracy'])\n",
        "\n",
        "model_CF10.fit(x_train, y_train,\n",
        "                batch_size=128, \n",
        "                epochs=5,\n",
        "                validation_data=(x_test, y_test)\n",
        "                )"
      ],
      "execution_count": 47,
      "outputs": [
        {
          "output_type": "stream",
          "text": [
            "Epoch 1/5\n",
            "391/391 [==============================] - 5s 14ms/step - loss: 2.3207 - categorical_accuracy: 0.1019 - val_loss: 2.3057 - val_categorical_accuracy: 0.0980\n",
            "Epoch 2/5\n",
            "391/391 [==============================] - 5s 13ms/step - loss: 2.3001 - categorical_accuracy: 0.1134 - val_loss: 2.3098 - val_categorical_accuracy: 0.1020\n",
            "Epoch 3/5\n",
            "391/391 [==============================] - 5s 13ms/step - loss: 2.2944 - categorical_accuracy: 0.1204 - val_loss: 2.3157 - val_categorical_accuracy: 0.0964\n",
            "Epoch 4/5\n",
            "391/391 [==============================] - 5s 13ms/step - loss: 2.2878 - categorical_accuracy: 0.1284 - val_loss: 2.3172 - val_categorical_accuracy: 0.0945\n",
            "Epoch 5/5\n",
            "391/391 [==============================] - 5s 13ms/step - loss: 2.2785 - categorical_accuracy: 0.1374 - val_loss: 2.3219 - val_categorical_accuracy: 0.0952\n"
          ],
          "name": "stdout"
        },
        {
          "output_type": "execute_result",
          "data": {
            "text/plain": [
              "<tensorflow.python.keras.callbacks.History at 0x7f226f1f3e48>"
            ]
          },
          "metadata": {
            "tags": []
          },
          "execution_count": 47
        }
      ]
    },
    {
      "cell_type": "code",
      "metadata": {
        "id": "kNrMLUveYxE1",
        "colab_type": "code",
        "colab": {
          "base_uri": "https://localhost:8080/",
          "height": 226
        },
        "outputId": "77ffcd65-8a9e-449b-c7f2-0eb1c8b8e0e0"
      },
      "source": [
        "# fine-tune\n",
        "\n",
        "for layer in CNN_layers:\n",
        "    layer.trainable = True\n",
        "\n",
        "model_CF10.compile(loss='categorical_crossentropy', \n",
        "                    optimizer=Adam(),\n",
        "                    metrics=['categorical_accuracy'])\n",
        "\n",
        "model_CF10.fit(x_train, y_train,\n",
        "                batch_size=128, \n",
        "                epochs=5,\n",
        "                validation_data=(x_test, y_test)\n",
        "                )"
      ],
      "execution_count": 49,
      "outputs": [
        {
          "output_type": "stream",
          "text": [
            "Epoch 1/5\n",
            "391/391 [==============================] - 11s 28ms/step - loss: 2.2866 - categorical_accuracy: 0.1312 - val_loss: 2.3161 - val_categorical_accuracy: 0.0939\n",
            "Epoch 2/5\n",
            "391/391 [==============================] - 11s 27ms/step - loss: 2.2782 - categorical_accuracy: 0.1390 - val_loss: 2.3205 - val_categorical_accuracy: 0.1015\n",
            "Epoch 3/5\n",
            "391/391 [==============================] - 11s 27ms/step - loss: 2.2662 - categorical_accuracy: 0.1467 - val_loss: 2.3372 - val_categorical_accuracy: 0.0993\n",
            "Epoch 4/5\n",
            "391/391 [==============================] - 11s 27ms/step - loss: 2.2453 - categorical_accuracy: 0.1628 - val_loss: 2.3483 - val_categorical_accuracy: 0.1007\n",
            "Epoch 5/5\n",
            "391/391 [==============================] - 11s 27ms/step - loss: 2.2164 - categorical_accuracy: 0.1816 - val_loss: 2.3595 - val_categorical_accuracy: 0.0981\n"
          ],
          "name": "stdout"
        },
        {
          "output_type": "execute_result",
          "data": {
            "text/plain": [
              "<tensorflow.python.keras.callbacks.History at 0x7f226e6bc080>"
            ]
          },
          "metadata": {
            "tags": []
          },
          "execution_count": 49
        }
      ]
    },
    {
      "cell_type": "code",
      "metadata": {
        "id": "hr1IgtJIZBfB",
        "colab_type": "code",
        "colab": {}
      },
      "source": [
        "## 結果都相當不好, 原先模型本來學習的結果也並不好, 可能是如此，其實相當於CNN layer截取的效果也不好"
      ],
      "execution_count": 0,
      "outputs": []
    }
  ]
}